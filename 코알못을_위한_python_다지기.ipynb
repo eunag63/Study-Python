{
  "nbformat": 4,
  "nbformat_minor": 0,
  "metadata": {
    "colab": {
      "name": "코알못을 위한 python 다지기.ipynb",
      "provenance": [],
      "collapsed_sections": [],
      "authorship_tag": "ABX9TyO02IY8QXs3C7+DP2AEmLZ1",
      "include_colab_link": true
    },
    "kernelspec": {
      "name": "python3",
      "display_name": "Python 3"
    },
    "language_info": {
      "name": "python"
    }
  },
  "cells": [
    {
      "cell_type": "markdown",
      "metadata": {
        "id": "view-in-github",
        "colab_type": "text"
      },
      "source": [
        "<a href=\"https://colab.research.google.com/github/eunag63/Study-Python/blob/main/%EC%BD%94%EC%95%8C%EB%AA%BB%EC%9D%84_%EC%9C%84%ED%95%9C_python_%EB%8B%A4%EC%A7%80%EA%B8%B0.ipynb\" target=\"_parent\"><img src=\"https://colab.research.google.com/assets/colab-badge.svg\" alt=\"Open In Colab\"/></a>"
      ]
    },
    {
      "cell_type": "code",
      "metadata": {
        "colab": {
          "base_uri": "https://localhost:8080/"
        },
        "id": "K0O-1kPpupdU",
        "outputId": "850602db-7f2a-4479-d9c3-1104b6496618"
      },
      "source": [
        "from google.colab import drive\n",
        "drive.mount('/content/drive')"
      ],
      "execution_count": null,
      "outputs": [
        {
          "output_type": "stream",
          "text": [
            "Mounted at /content/drive\n"
          ],
          "name": "stdout"
        }
      ]
    },
    {
      "cell_type": "code",
      "metadata": {
        "colab": {
          "base_uri": "https://localhost:8080/"
        },
        "id": "le7s9PiIpBB1",
        "outputId": "220250b6-d29c-4168-c66e-d009887eb53c"
      },
      "source": [
        "print('hello world')"
      ],
      "execution_count": null,
      "outputs": [
        {
          "output_type": "stream",
          "text": [
            "hello world\n"
          ],
          "name": "stdout"
        }
      ]
    },
    {
      "cell_type": "markdown",
      "metadata": {
        "id": "xCZeMjgnpFpA"
      },
      "source": [
        "**사칙연산**"
      ]
    },
    {
      "cell_type": "code",
      "metadata": {
        "colab": {
          "base_uri": "https://localhost:8080/"
        },
        "id": "A89Mhw1hpD5L",
        "outputId": "ffabf8b2-691b-4cae-9ce8-1ba941489cc3"
      },
      "source": [
        "100+200"
      ],
      "execution_count": null,
      "outputs": [
        {
          "output_type": "execute_result",
          "data": {
            "text/plain": [
              "300"
            ]
          },
          "metadata": {
            "tags": []
          },
          "execution_count": 2
        }
      ]
    },
    {
      "cell_type": "code",
      "metadata": {
        "colab": {
          "base_uri": "https://localhost:8080/"
        },
        "id": "F3j284vVpC0E",
        "outputId": "d382f9ab-8e26-4562-9380-b83fd59f5af8"
      },
      "source": [
        "200/33"
      ],
      "execution_count": null,
      "outputs": [
        {
          "output_type": "execute_result",
          "data": {
            "text/plain": [
              "6.0606060606060606"
            ]
          },
          "metadata": {
            "tags": []
          },
          "execution_count": 3
        }
      ]
    },
    {
      "cell_type": "code",
      "metadata": {
        "colab": {
          "base_uri": "https://localhost:8080/"
        },
        "id": "-sggke_dpLQR",
        "outputId": "4a7dca39-eca2-49c6-dad1-cdf298a3ec1d"
      },
      "source": [
        "200//33"
      ],
      "execution_count": null,
      "outputs": [
        {
          "output_type": "execute_result",
          "data": {
            "text/plain": [
              "6"
            ]
          },
          "metadata": {
            "tags": []
          },
          "execution_count": 4
        }
      ]
    },
    {
      "cell_type": "code",
      "metadata": {
        "colab": {
          "base_uri": "https://localhost:8080/"
        },
        "id": "8tYMPd-5pNIP",
        "outputId": "e7428750-22bb-4abb-fecd-aae380742909"
      },
      "source": [
        "5**2"
      ],
      "execution_count": null,
      "outputs": [
        {
          "output_type": "execute_result",
          "data": {
            "text/plain": [
              "25"
            ]
          },
          "metadata": {
            "tags": []
          },
          "execution_count": 5
        }
      ]
    },
    {
      "cell_type": "code",
      "metadata": {
        "colab": {
          "base_uri": "https://localhost:8080/"
        },
        "id": "5QkrD9iLpQFc",
        "outputId": "d3516f1f-a178-403c-d84e-2e9f377ca43d"
      },
      "source": [
        "50%2"
      ],
      "execution_count": null,
      "outputs": [
        {
          "output_type": "execute_result",
          "data": {
            "text/plain": [
              "0"
            ]
          },
          "metadata": {
            "tags": []
          },
          "execution_count": 6
        }
      ]
    },
    {
      "cell_type": "code",
      "metadata": {
        "id": "4WvphCghpRhE"
      },
      "source": [
        "#가독성을 위해 띄어쓰기 하는 습관을 가져야 한다!"
      ],
      "execution_count": null,
      "outputs": []
    },
    {
      "cell_type": "code",
      "metadata": {
        "colab": {
          "base_uri": "https://localhost:8080/"
        },
        "id": "dFpMW8vOpTjY",
        "outputId": "8019418c-146f-4417-b42a-c1ebd4df69e4"
      },
      "source": [
        "a = 100\n",
        "b = 200\n",
        "c = a + b\n",
        "print(c)"
      ],
      "execution_count": null,
      "outputs": [
        {
          "output_type": "stream",
          "text": [
            "300\n"
          ],
          "name": "stdout"
        }
      ]
    },
    {
      "cell_type": "code",
      "metadata": {
        "colab": {
          "base_uri": "https://localhost:8080/"
        },
        "id": "ewQyd-jipU_6",
        "outputId": "935933fa-e517-45bf-baf7-e106eed583f1"
      },
      "source": [
        "#미션\n",
        "\n",
        "a = 1000\n",
        "b = 2000\n",
        "c = a\n",
        "a = b\n",
        "b = c\n",
        "\n",
        "print(a)\n",
        "print(b)"
      ],
      "execution_count": null,
      "outputs": [
        {
          "output_type": "stream",
          "text": [
            "2000\n",
            "1000\n"
          ],
          "name": "stdout"
        }
      ]
    },
    {
      "cell_type": "code",
      "metadata": {
        "colab": {
          "base_uri": "https://localhost:8080/"
        },
        "id": "xNd2OWNbpWbj",
        "outputId": "d7a11800-8cb3-48f6-e008-d129ceeb4783"
      },
      "source": [
        "#미션 코드\n",
        "\n",
        "a = 1000\n",
        "b = 2000\n",
        "\n",
        "temp = a\n",
        "a = b\n",
        "b = temp\n",
        "\n",
        "print(a,b)"
      ],
      "execution_count": null,
      "outputs": [
        {
          "output_type": "stream",
          "text": [
            "2000 1000\n"
          ],
          "name": "stdout"
        }
      ]
    },
    {
      "cell_type": "code",
      "metadata": {
        "colab": {
          "base_uri": "https://localhost:8080/"
        },
        "id": "-f5gWaZFpYLH",
        "outputId": "9df70fe0-8ce8-443a-e6cf-59f80a3b8ba3"
      },
      "source": [
        "#미션 다른 사람 코드\n",
        "a = 1000\n",
        "b = 2000\n",
        "a,b = b,a\n",
        "print(a,b)"
      ],
      "execution_count": null,
      "outputs": [
        {
          "output_type": "stream",
          "text": [
            "2000 1000\n"
          ],
          "name": "stdout"
        }
      ]
    },
    {
      "cell_type": "code",
      "metadata": {
        "colab": {
          "base_uri": "https://localhost:8080/",
          "height": 52
        },
        "id": "t_bfWQq7pgUU",
        "outputId": "789ebb00-85b1-44b9-bae8-3c031293c2ae"
      },
      "source": [
        "#실습1\n",
        "'Python Web Crawler ' * 5"
      ],
      "execution_count": null,
      "outputs": [
        {
          "output_type": "execute_result",
          "data": {
            "application/vnd.google.colaboratory.intrinsic+json": {
              "type": "string"
            },
            "text/plain": [
              "'Python Web Crawler Python Web Crawler Python Web Crawler Python Web Crawler Python Web Crawler '"
            ]
          },
          "metadata": {
            "tags": []
          },
          "execution_count": 19
        }
      ]
    },
    {
      "cell_type": "code",
      "metadata": {
        "colab": {
          "base_uri": "https://localhost:8080/"
        },
        "id": "hhFOUu991hqV",
        "outputId": "0409e95a-910f-408f-b851-ea9d3132c567"
      },
      "source": [
        "#변수명 규칙\n",
        "\n",
        "#1. 문자, 숫자, 언더바(_) 가능\n",
        "#2. 숫자로 시작할 수 없음\n",
        "#3. 대소문자를 구분함\n",
        "#4. 키워드(=예약어)는 사용할 수 없음 ex) if, for, while 등\n",
        "\n",
        "import keyword\n",
        "print(len(keyword.kwlist))\n"
      ],
      "execution_count": null,
      "outputs": [
        {
          "output_type": "stream",
          "text": [
            "35\n"
          ],
          "name": "stdout"
        }
      ]
    },
    {
      "cell_type": "markdown",
      "metadata": {
        "id": "XbpZ4j2d3xOk"
      },
      "source": [
        "**자료형**"
      ]
    },
    {
      "cell_type": "code",
      "metadata": {
        "id": "w7kWQKFp23wt"
      },
      "source": [
        "#1. 정수형 int -- integer\n",
        "#2. 실수형 float -- float\n",
        "#3. 문자열형 str -- string\n",
        "#4. 부울형 bool -- boolean\n",
        "#5. 복소수형 complex --complex\n",
        "\n",
        "#6.리스트 list -- list\n",
        "#7.튜플 tuple -- tuple\n",
        "#8.집합 set -- set\n",
        "#9.딕셔너리 dict -- dictionary"
      ],
      "execution_count": null,
      "outputs": []
    },
    {
      "cell_type": "code",
      "metadata": {
        "colab": {
          "base_uri": "https://localhost:8080/"
        },
        "id": "IWQio-Xr4G7y",
        "outputId": "b6c2c4b1-bc28-4f2e-c67c-0e57b8fb667e"
      },
      "source": [
        "a = 100\n",
        "b = 10.5\n",
        "c = 'hello python'\n",
        "d = True\n",
        "e = 2 + 3j\n",
        "\n",
        "print(type(a))\n",
        "print(type(b))\n",
        "print(type(c))\n",
        "print(type(d))\n",
        "print(type(e))"
      ],
      "execution_count": null,
      "outputs": [
        {
          "output_type": "stream",
          "text": [
            "<class 'int'>\n",
            "<class 'float'>\n",
            "<class 'str'>\n",
            "<class 'bool'>\n",
            "<class 'complex'>\n"
          ],
          "name": "stdout"
        }
      ]
    },
    {
      "cell_type": "markdown",
      "metadata": {
        "id": "DgLUOcutR95v"
      },
      "source": [
        "**데이터 형**"
      ]
    },
    {
      "cell_type": "code",
      "metadata": {
        "id": "ctJJF88F4yqB",
        "colab": {
          "base_uri": "https://localhost:8080/"
        },
        "outputId": "f54e5a79-58d1-4177-cae5-b735c49aa42d"
      },
      "source": [
        "a = [1, 2, 3, 4, 5]\n",
        "b = (1, 2, 3, 4, 5)\n",
        "c = {1, 2, 3, 4, 5}\n",
        "d = {'가':1, '나':2, '다':3, '라':4, '마':5}\n",
        "\n",
        "print(type(a))\n",
        "print(type(b))\n",
        "print(type(c))\n",
        "print(type(d))\n",
        "\n",
        "print(len(d))"
      ],
      "execution_count": 2,
      "outputs": [
        {
          "output_type": "stream",
          "text": [
            "<class 'list'>\n",
            "<class 'tuple'>\n",
            "<class 'set'>\n",
            "<class 'dict'>\n",
            "5\n"
          ],
          "name": "stdout"
        }
      ]
    },
    {
      "cell_type": "markdown",
      "metadata": {
        "id": "6EVT8YcTULaC"
      },
      "source": [
        "**데이터 형 변환**"
      ]
    },
    {
      "cell_type": "code",
      "metadata": {
        "colab": {
          "base_uri": "https://localhost:8080/"
        },
        "id": "cAer--hpRsUW",
        "outputId": "569496cd-4c4c-430b-ee55-e9ed11167e99"
      },
      "source": [
        "a = int(input('첫 번째 숫자입력: '))\n",
        "b = int(input('두 번째 숫자입력: '))\n",
        "\n",
        "c = a + b\n",
        "\n",
        "print('두 숫자의 합은', c, '입니다.')\n",
        "\n",
        "#문자열 포맷팅\n",
        "print('두 숫자의 합은 {}입니다.'.format(c))\n",
        "print('두 숫자의 합은 %d입니다.' % (c))\n",
        "print('첫 번째 숫자 {}와(과) 두번째 숫자 {}의 합은 {}입니다.'.format(a,b,c))\n",
        "print('첫 번째 숫자 {0:,}와(과) 두번째 숫자 {1:,}의 합은 {2:,}입니다.'.format(a,b,c))\n",
        "print('첫 번째 숫자 {0:,.5f}와(과) 두번째 숫자 {1:,.5f}의 합은 {2:,.5f}입니다.'.format(a,b,c))"
      ],
      "execution_count": 11,
      "outputs": [
        {
          "output_type": "stream",
          "text": [
            "첫 번째 숫자입력: 200\n",
            "두 번째 숫자입력: 300\n",
            "두 숫자의 합은 500 입니다.\n",
            "두 숫자의 합은 500입니다.\n",
            "두 숫자의 합은 500입니다.\n",
            "첫 번째 숫자 200와(과) 두번째 숫자 300의 합은 500입니다.\n"
          ],
          "name": "stdout"
        }
      ]
    },
    {
      "cell_type": "code",
      "metadata": {
        "colab": {
          "base_uri": "https://localhost:8080/"
        },
        "id": "aQHXZUSdSS2s",
        "outputId": "5d082b9c-8b06-4d28-eab5-934a295c250b"
      },
      "source": [
        "#실습4 - bmi 지수\n",
        "\n",
        "w = float(input())\n",
        "h = float(input())\n",
        "\n",
        "bmi = w / (h * h)\n",
        "\n",
        "print('당신의 bmi 지수는 {:.1f}입니다.'.format(bmi))"
      ],
      "execution_count": 20,
      "outputs": [
        {
          "output_type": "stream",
          "text": [
            "80\n",
            "1.8\n",
            "당신의 bmi 지수는 24.7입니다.\n"
          ],
          "name": "stdout"
        }
      ]
    },
    {
      "cell_type": "code",
      "metadata": {
        "colab": {
          "base_uri": "https://localhost:8080/"
        },
        "id": "mkWLJM8UfRqQ",
        "outputId": "97536d4b-9019-4257-877f-2a311478eb19"
      },
      "source": [
        "#실습5 \n",
        "\n",
        "c = float(input('섭씨를 입력하세요 : '))\n",
        "f = (c * 1.8) + 32\n",
        "\n",
        "print('화씨는 {:.0f}입니다'.format(f))\n",
        "\n"
      ],
      "execution_count": 24,
      "outputs": [
        {
          "output_type": "stream",
          "text": [
            "섭씨를 입력하세요 : 100\n",
            "화씨는 212입니다\n"
          ],
          "name": "stdout"
        }
      ]
    },
    {
      "cell_type": "markdown",
      "metadata": {
        "id": "G17RcmM4lJx8"
      },
      "source": [
        "**인덱싱과 슬라이싱**"
      ]
    },
    {
      "cell_type": "code",
      "metadata": {
        "colab": {
          "base_uri": "https://localhost:8080/"
        },
        "id": "OQM6N10qi1An",
        "outputId": "b22366c2-c5ae-49f5-f223-ae892272bac3"
      },
      "source": [
        "a = 'Life is too short, You need Python.'\n",
        "\n",
        "print(a[0])\n",
        "print(a[-1])\n",
        "print(len(a))\n",
        "print(a[34])\n",
        "\n",
        "print(a[0:7])\n",
        "print(a[-7:-1])"
      ],
      "execution_count": 28,
      "outputs": [
        {
          "output_type": "stream",
          "text": [
            "L\n",
            ".\n",
            "35\n",
            ".\n",
            "Life is\n",
            "Python\n"
          ],
          "name": "stdout"
        }
      ]
    },
    {
      "cell_type": "code",
      "metadata": {
        "id": "kuw5FlePmU3m"
      },
      "source": [
        ""
      ],
      "execution_count": null,
      "outputs": []
    }
  ]
}