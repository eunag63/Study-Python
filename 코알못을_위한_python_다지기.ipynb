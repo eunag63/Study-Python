{
  "nbformat": 4,
  "nbformat_minor": 0,
  "metadata": {
    "colab": {
      "name": "코알못을 위한 python 다지기.ipynb",
      "provenance": [],
      "collapsed_sections": [],
      "authorship_tag": "ABX9TyNcGta3o4ONbXQ9Ol/NYjMV",
      "include_colab_link": true
    },
    "kernelspec": {
      "name": "python3",
      "display_name": "Python 3"
    },
    "language_info": {
      "name": "python"
    }
  },
  "cells": [
    {
      "cell_type": "markdown",
      "metadata": {
        "id": "view-in-github",
        "colab_type": "text"
      },
      "source": [
        "<a href=\"https://colab.research.google.com/github/eunag63/Study-Python/blob/main/%EC%BD%94%EC%95%8C%EB%AA%BB%EC%9D%84_%EC%9C%84%ED%95%9C_python_%EB%8B%A4%EC%A7%80%EA%B8%B0.ipynb\" target=\"_parent\"><img src=\"https://colab.research.google.com/assets/colab-badge.svg\" alt=\"Open In Colab\"/></a>"
      ]
    },
    {
      "cell_type": "code",
      "metadata": {
        "colab": {
          "base_uri": "https://localhost:8080/"
        },
        "id": "K0O-1kPpupdU",
        "outputId": "850602db-7f2a-4479-d9c3-1104b6496618"
      },
      "source": [
        "from google.colab import drive\n",
        "drive.mount('/content/drive')"
      ],
      "execution_count": null,
      "outputs": [
        {
          "output_type": "stream",
          "text": [
            "Mounted at /content/drive\n"
          ],
          "name": "stdout"
        }
      ]
    },
    {
      "cell_type": "code",
      "metadata": {
        "colab": {
          "base_uri": "https://localhost:8080/"
        },
        "id": "le7s9PiIpBB1",
        "outputId": "220250b6-d29c-4168-c66e-d009887eb53c"
      },
      "source": [
        "print('hello world')"
      ],
      "execution_count": null,
      "outputs": [
        {
          "output_type": "stream",
          "text": [
            "hello world\n"
          ],
          "name": "stdout"
        }
      ]
    },
    {
      "cell_type": "markdown",
      "metadata": {
        "id": "xCZeMjgnpFpA"
      },
      "source": [
        "**사칙연산**"
      ]
    },
    {
      "cell_type": "code",
      "metadata": {
        "colab": {
          "base_uri": "https://localhost:8080/"
        },
        "id": "A89Mhw1hpD5L",
        "outputId": "ffabf8b2-691b-4cae-9ce8-1ba941489cc3"
      },
      "source": [
        "100+200"
      ],
      "execution_count": null,
      "outputs": [
        {
          "output_type": "execute_result",
          "data": {
            "text/plain": [
              "300"
            ]
          },
          "metadata": {
            "tags": []
          },
          "execution_count": 2
        }
      ]
    },
    {
      "cell_type": "code",
      "metadata": {
        "colab": {
          "base_uri": "https://localhost:8080/"
        },
        "id": "F3j284vVpC0E",
        "outputId": "d382f9ab-8e26-4562-9380-b83fd59f5af8"
      },
      "source": [
        "200/33"
      ],
      "execution_count": null,
      "outputs": [
        {
          "output_type": "execute_result",
          "data": {
            "text/plain": [
              "6.0606060606060606"
            ]
          },
          "metadata": {
            "tags": []
          },
          "execution_count": 3
        }
      ]
    },
    {
      "cell_type": "code",
      "metadata": {
        "colab": {
          "base_uri": "https://localhost:8080/"
        },
        "id": "-sggke_dpLQR",
        "outputId": "4a7dca39-eca2-49c6-dad1-cdf298a3ec1d"
      },
      "source": [
        "200//33"
      ],
      "execution_count": null,
      "outputs": [
        {
          "output_type": "execute_result",
          "data": {
            "text/plain": [
              "6"
            ]
          },
          "metadata": {
            "tags": []
          },
          "execution_count": 4
        }
      ]
    },
    {
      "cell_type": "code",
      "metadata": {
        "colab": {
          "base_uri": "https://localhost:8080/"
        },
        "id": "8tYMPd-5pNIP",
        "outputId": "e7428750-22bb-4abb-fecd-aae380742909"
      },
      "source": [
        "5**2"
      ],
      "execution_count": null,
      "outputs": [
        {
          "output_type": "execute_result",
          "data": {
            "text/plain": [
              "25"
            ]
          },
          "metadata": {
            "tags": []
          },
          "execution_count": 5
        }
      ]
    },
    {
      "cell_type": "code",
      "metadata": {
        "colab": {
          "base_uri": "https://localhost:8080/"
        },
        "id": "5QkrD9iLpQFc",
        "outputId": "d3516f1f-a178-403c-d84e-2e9f377ca43d"
      },
      "source": [
        "50%2"
      ],
      "execution_count": null,
      "outputs": [
        {
          "output_type": "execute_result",
          "data": {
            "text/plain": [
              "0"
            ]
          },
          "metadata": {
            "tags": []
          },
          "execution_count": 6
        }
      ]
    },
    {
      "cell_type": "code",
      "metadata": {
        "id": "4WvphCghpRhE"
      },
      "source": [
        "#가독성을 위해 띄어쓰기 하는 습관을 가져야 한다!"
      ],
      "execution_count": null,
      "outputs": []
    },
    {
      "cell_type": "code",
      "metadata": {
        "colab": {
          "base_uri": "https://localhost:8080/"
        },
        "id": "dFpMW8vOpTjY",
        "outputId": "8019418c-146f-4417-b42a-c1ebd4df69e4"
      },
      "source": [
        "a = 100\n",
        "b = 200\n",
        "c = a + b\n",
        "print(c)"
      ],
      "execution_count": null,
      "outputs": [
        {
          "output_type": "stream",
          "text": [
            "300\n"
          ],
          "name": "stdout"
        }
      ]
    },
    {
      "cell_type": "code",
      "metadata": {
        "colab": {
          "base_uri": "https://localhost:8080/"
        },
        "id": "ewQyd-jipU_6",
        "outputId": "935933fa-e517-45bf-baf7-e106eed583f1"
      },
      "source": [
        "#미션\n",
        "\n",
        "a = 1000\n",
        "b = 2000\n",
        "c = a\n",
        "a = b\n",
        "b = c\n",
        "\n",
        "print(a)\n",
        "print(b)"
      ],
      "execution_count": null,
      "outputs": [
        {
          "output_type": "stream",
          "text": [
            "2000\n",
            "1000\n"
          ],
          "name": "stdout"
        }
      ]
    },
    {
      "cell_type": "code",
      "metadata": {
        "colab": {
          "base_uri": "https://localhost:8080/"
        },
        "id": "xNd2OWNbpWbj",
        "outputId": "d7a11800-8cb3-48f6-e008-d129ceeb4783"
      },
      "source": [
        "#미션 코드\n",
        "\n",
        "a = 1000\n",
        "b = 2000\n",
        "\n",
        "temp = a\n",
        "a = b\n",
        "b = temp\n",
        "\n",
        "print(a,b)"
      ],
      "execution_count": null,
      "outputs": [
        {
          "output_type": "stream",
          "text": [
            "2000 1000\n"
          ],
          "name": "stdout"
        }
      ]
    },
    {
      "cell_type": "code",
      "metadata": {
        "colab": {
          "base_uri": "https://localhost:8080/"
        },
        "id": "-f5gWaZFpYLH",
        "outputId": "9df70fe0-8ce8-443a-e6cf-59f80a3b8ba3"
      },
      "source": [
        "#미션 다른 사람 코드\n",
        "a = 1000\n",
        "b = 2000\n",
        "a,b = b,a\n",
        "print(a,b)"
      ],
      "execution_count": null,
      "outputs": [
        {
          "output_type": "stream",
          "text": [
            "2000 1000\n"
          ],
          "name": "stdout"
        }
      ]
    },
    {
      "cell_type": "code",
      "metadata": {
        "colab": {
          "base_uri": "https://localhost:8080/",
          "height": 52
        },
        "id": "t_bfWQq7pgUU",
        "outputId": "789ebb00-85b1-44b9-bae8-3c031293c2ae"
      },
      "source": [
        "#실습1\n",
        "'Python Web Crawler ' * 5"
      ],
      "execution_count": null,
      "outputs": [
        {
          "output_type": "execute_result",
          "data": {
            "application/vnd.google.colaboratory.intrinsic+json": {
              "type": "string"
            },
            "text/plain": [
              "'Python Web Crawler Python Web Crawler Python Web Crawler Python Web Crawler Python Web Crawler '"
            ]
          },
          "metadata": {
            "tags": []
          },
          "execution_count": 19
        }
      ]
    },
    {
      "cell_type": "code",
      "metadata": {
        "colab": {
          "base_uri": "https://localhost:8080/"
        },
        "id": "hhFOUu991hqV",
        "outputId": "0409e95a-910f-408f-b851-ea9d3132c567"
      },
      "source": [
        "#변수명 규칙\n",
        "\n",
        "#1. 문자, 숫자, 언더바(_) 가능\n",
        "#2. 숫자로 시작할 수 없음\n",
        "#3. 대소문자를 구분함\n",
        "#4. 키워드(=예약어)는 사용할 수 없음 ex) if, for, while 등\n",
        "\n",
        "import keyword\n",
        "print(len(keyword.kwlist))\n"
      ],
      "execution_count": null,
      "outputs": [
        {
          "output_type": "stream",
          "text": [
            "35\n"
          ],
          "name": "stdout"
        }
      ]
    },
    {
      "cell_type": "markdown",
      "metadata": {
        "id": "XbpZ4j2d3xOk"
      },
      "source": [
        "**자료형**"
      ]
    },
    {
      "cell_type": "code",
      "metadata": {
        "id": "w7kWQKFp23wt"
      },
      "source": [
        "#1. 정수형 int -- integer\n",
        "#2. 실수형 float -- float\n",
        "#3. 문자열형 str -- string\n",
        "#4. 부울형 bool -- boolean\n",
        "#5. 복소수형 complex --complex\n",
        "\n",
        "#6.리스트 list -- list\n",
        "#7.튜플 tuple -- tuple\n",
        "#8.집합 set -- set\n",
        "#9.딕셔너리 dict -- dictionary"
      ],
      "execution_count": null,
      "outputs": []
    },
    {
      "cell_type": "code",
      "metadata": {
        "colab": {
          "base_uri": "https://localhost:8080/"
        },
        "id": "IWQio-Xr4G7y",
        "outputId": "b6c2c4b1-bc28-4f2e-c67c-0e57b8fb667e"
      },
      "source": [
        "a = 100\n",
        "b = 10.5\n",
        "c = 'hello python'\n",
        "d = True\n",
        "e = 2 + 3j\n",
        "\n",
        "print(type(a))\n",
        "print(type(b))\n",
        "print(type(c))\n",
        "print(type(d))\n",
        "print(type(e))"
      ],
      "execution_count": null,
      "outputs": [
        {
          "output_type": "stream",
          "text": [
            "<class 'int'>\n",
            "<class 'float'>\n",
            "<class 'str'>\n",
            "<class 'bool'>\n",
            "<class 'complex'>\n"
          ],
          "name": "stdout"
        }
      ]
    },
    {
      "cell_type": "markdown",
      "metadata": {
        "id": "DgLUOcutR95v"
      },
      "source": [
        "**데이터 형**"
      ]
    },
    {
      "cell_type": "code",
      "metadata": {
        "id": "ctJJF88F4yqB",
        "colab": {
          "base_uri": "https://localhost:8080/"
        },
        "outputId": "f54e5a79-58d1-4177-cae5-b735c49aa42d"
      },
      "source": [
        "a = [1, 2, 3, 4, 5]\n",
        "b = (1, 2, 3, 4, 5)\n",
        "c = {1, 2, 3, 4, 5}\n",
        "d = {'가':1, '나':2, '다':3, '라':4, '마':5}\n",
        "\n",
        "print(type(a))\n",
        "print(type(b))\n",
        "print(type(c))\n",
        "print(type(d))\n",
        "\n",
        "print(len(d))"
      ],
      "execution_count": null,
      "outputs": [
        {
          "output_type": "stream",
          "text": [
            "<class 'list'>\n",
            "<class 'tuple'>\n",
            "<class 'set'>\n",
            "<class 'dict'>\n",
            "5\n"
          ],
          "name": "stdout"
        }
      ]
    },
    {
      "cell_type": "markdown",
      "metadata": {
        "id": "6EVT8YcTULaC"
      },
      "source": [
        "**데이터 형 변환**"
      ]
    },
    {
      "cell_type": "code",
      "metadata": {
        "colab": {
          "base_uri": "https://localhost:8080/"
        },
        "id": "cAer--hpRsUW",
        "outputId": "569496cd-4c4c-430b-ee55-e9ed11167e99"
      },
      "source": [
        "a = int(input('첫 번째 숫자입력: '))\n",
        "b = int(input('두 번째 숫자입력: '))\n",
        "\n",
        "c = a + b\n",
        "\n",
        "print('두 숫자의 합은', c, '입니다.')\n",
        "\n",
        "#문자열 포맷팅\n",
        "print('두 숫자의 합은 {}입니다.'.format(c))\n",
        "print('두 숫자의 합은 %d입니다.' % (c))\n",
        "print('첫 번째 숫자 {}와(과) 두번째 숫자 {}의 합은 {}입니다.'.format(a,b,c))\n",
        "print('첫 번째 숫자 {0:,}와(과) 두번째 숫자 {1:,}의 합은 {2:,}입니다.'.format(a,b,c))\n",
        "print('첫 번째 숫자 {0:,.5f}와(과) 두번째 숫자 {1:,.5f}의 합은 {2:,.5f}입니다.'.format(a,b,c))"
      ],
      "execution_count": null,
      "outputs": [
        {
          "output_type": "stream",
          "text": [
            "첫 번째 숫자입력: 200\n",
            "두 번째 숫자입력: 300\n",
            "두 숫자의 합은 500 입니다.\n",
            "두 숫자의 합은 500입니다.\n",
            "두 숫자의 합은 500입니다.\n",
            "첫 번째 숫자 200와(과) 두번째 숫자 300의 합은 500입니다.\n"
          ],
          "name": "stdout"
        }
      ]
    },
    {
      "cell_type": "code",
      "metadata": {
        "colab": {
          "base_uri": "https://localhost:8080/"
        },
        "id": "aQHXZUSdSS2s",
        "outputId": "5d082b9c-8b06-4d28-eab5-934a295c250b"
      },
      "source": [
        "#실습4 - bmi 지수\n",
        "\n",
        "w = float(input())\n",
        "h = float(input())\n",
        "\n",
        "bmi = w / (h * h)\n",
        "\n",
        "print('당신의 bmi 지수는 {:.1f}입니다.'.format(bmi))"
      ],
      "execution_count": null,
      "outputs": [
        {
          "output_type": "stream",
          "text": [
            "80\n",
            "1.8\n",
            "당신의 bmi 지수는 24.7입니다.\n"
          ],
          "name": "stdout"
        }
      ]
    },
    {
      "cell_type": "code",
      "metadata": {
        "colab": {
          "base_uri": "https://localhost:8080/"
        },
        "id": "mkWLJM8UfRqQ",
        "outputId": "97536d4b-9019-4257-877f-2a311478eb19"
      },
      "source": [
        "#실습5 \n",
        "\n",
        "c = float(input('섭씨를 입력하세요 : '))\n",
        "f = (c * 1.8) + 32\n",
        "\n",
        "print('화씨는 {:.0f}입니다'.format(f))\n",
        "\n"
      ],
      "execution_count": null,
      "outputs": [
        {
          "output_type": "stream",
          "text": [
            "섭씨를 입력하세요 : 100\n",
            "화씨는 212입니다\n"
          ],
          "name": "stdout"
        }
      ]
    },
    {
      "cell_type": "markdown",
      "metadata": {
        "id": "G17RcmM4lJx8"
      },
      "source": [
        "**인덱싱과 슬라이싱**"
      ]
    },
    {
      "cell_type": "code",
      "metadata": {
        "colab": {
          "base_uri": "https://localhost:8080/"
        },
        "id": "OQM6N10qi1An",
        "outputId": "cc692b65-c17b-43b0-e93f-a1dfd4872638"
      },
      "source": [
        "a = 'Life is too short, You need Python.'\n",
        "\n",
        "print(a[0])\n",
        "print(a[-1])\n",
        "print(len(a))\n",
        "print(a[34])\n",
        "\n",
        "print(a[0:7])\n",
        "print(a[-7:-1])\n",
        "\n",
        "print(a[19:])\n",
        "print(a[:17])"
      ],
      "execution_count": null,
      "outputs": [
        {
          "output_type": "stream",
          "text": [
            "L\n",
            ".\n",
            "35\n",
            ".\n",
            "Life is\n",
            "Python\n",
            "You need Python.\n",
            "Life is too short\n"
          ],
          "name": "stdout"
        }
      ]
    },
    {
      "cell_type": "markdown",
      "metadata": {
        "id": "Zqn1bPrcsV7A"
      },
      "source": [
        "**조건문**"
      ]
    },
    {
      "cell_type": "code",
      "metadata": {
        "colab": {
          "base_uri": "https://localhost:8080/"
        },
        "id": "kuw5FlePmU3m",
        "outputId": "a62629de-e90e-4ce2-df63-abedb2ed5cf9"
      },
      "source": [
        "#실습7 - 진리표\n",
        "\n",
        "(100> 200) and (300 >= 150)"
      ],
      "execution_count": null,
      "outputs": [
        {
          "output_type": "execute_result",
          "data": {
            "text/plain": [
              "False"
            ]
          },
          "metadata": {
            "tags": []
          },
          "execution_count": 32
        }
      ]
    },
    {
      "cell_type": "code",
      "metadata": {
        "colab": {
          "base_uri": "https://localhost:8080/"
        },
        "id": "lJxmUhAVu1gL",
        "outputId": "2d09b1b9-ccf8-4deb-fe60-73b97ae05b1e"
      },
      "source": [
        "#실습8\n",
        "\n",
        "pen_unit_price = 2000\n",
        "note_unit_price = 1000\n",
        "\n",
        "pen_count = int(input('펜의 개수를 입력: '))\n",
        "note_count = int(input('노트의 개수를 입력: '))\n",
        "\n",
        "total_price = pen_unit_price * pen_count + note_unit_price * note_count\n",
        "\n",
        "if total_price > 15000:\n",
        "  total_price = total_price - total_price * 0.1\n",
        "  print('총 구매금액(10% 할인)은 {:,.0f}원입니다.'.format(total_price))\n",
        "else:\n",
        "  print('총 구매금액은 {:,.0f}원입니다.'.format(total_price))"
      ],
      "execution_count": null,
      "outputs": [
        {
          "output_type": "stream",
          "text": [
            "펜의 개수를 입력: 10\n",
            "노트의 개수를 입력: 10\n",
            "총 구매금액(10% 할인)은 27,000원입니다.\n"
          ],
          "name": "stdout"
        }
      ]
    },
    {
      "cell_type": "code",
      "metadata": {
        "colab": {
          "base_uri": "https://localhost:8080/"
        },
        "id": "UJn6k0j2zG_4",
        "outputId": "1b787dab-d383-4c34-e733-a25ec237947e"
      },
      "source": [
        "#실습9\n",
        "s = 100000\n",
        "t = 50000\n",
        "\n",
        "s_count = int(input())\n",
        "t_count = int(input())\n",
        "\n",
        "total = s * s_count + t * t_count\n",
        "\n",
        "if total >= 300000:\n",
        "  total = total - total * 0.15\n",
        "  print('총 구매금액(15% 할인)은 {:,.0f}원입니다.'.format(total))\n",
        "else:\n",
        "  total = total - total * 0.05\n",
        "  print('총 구매금액(5% 할인)은 {:,.0f}원입니다.'.format(total))\n"
      ],
      "execution_count": null,
      "outputs": [
        {
          "output_type": "stream",
          "text": [
            "1\n",
            "1\n",
            "총 구매금액(5% 할인)은 142,500원입니다.\n"
          ],
          "name": "stdout"
        }
      ]
    },
    {
      "cell_type": "code",
      "metadata": {
        "colab": {
          "base_uri": "https://localhost:8080/"
        },
        "id": "IBj2ynMC03_l",
        "outputId": "db112649-5c02-4f71-ad80-e4c35a697412"
      },
      "source": [
        "#실습 10\n",
        "\n",
        "score = int(input('점수를 입력: '))\n",
        "\n",
        "if score >= 90:\n",
        "  print('A등급입니다.')\n",
        "elif score >= 80:\n",
        "  print('B등급입니다.')\n",
        "elif score >= 70:\n",
        "  print('C등급입니다.')\n",
        "elif score >= 60:\n",
        "  print('D등급입니다.')\n",
        "else:\n",
        "  print('F등급입니다.')"
      ],
      "execution_count": null,
      "outputs": [
        {
          "output_type": "stream",
          "text": [
            "점수를 입력: 67\n",
            "D등급입니다.\n"
          ],
          "name": "stdout"
        }
      ]
    },
    {
      "cell_type": "code",
      "metadata": {
        "colab": {
          "base_uri": "https://localhost:8080/"
        },
        "id": "UM8o51aQ5vNN",
        "outputId": "50e13d3d-1720-4e55-f669-04619c51c5e1"
      },
      "source": [
        "#실습 11\n",
        "\n",
        "f = int(input())\n",
        "s = int(input())\n",
        "t = int(input())\n",
        "\n",
        "total = f + s + t\n",
        "\n",
        "if total >= 180:\n",
        "  if f < 40 or s < 40 or t < 40:\n",
        "    print('불학격입니다. 과락입니다.')\n",
        "  else:\n",
        "    print('합격입니다.')\n",
        "else:\n",
        "  print('불합격입니다. 총점이 부족합니다.')"
      ],
      "execution_count": null,
      "outputs": [
        {
          "output_type": "stream",
          "text": [
            "1\n",
            "50\n",
            "50\n",
            "불합격입니다. 총점이 부족합니다.\n"
          ],
          "name": "stdout"
        }
      ]
    },
    {
      "cell_type": "markdown",
      "metadata": {
        "id": "XiKlQFNsjI1_"
      },
      "source": [
        "**파일**"
      ]
    },
    {
      "cell_type": "code",
      "metadata": {
        "id": "IoV6Eyd98I0_"
      },
      "source": [
        "f = open('python.txt','w')\n",
        "f.write('hello python')\n",
        "f.close()"
      ],
      "execution_count": null,
      "outputs": []
    },
    {
      "cell_type": "code",
      "metadata": {
        "id": "vhZeBqS2lv-q"
      },
      "source": [
        "f = open('python.txt','r')\n",
        "s = f.read()\n",
        "print(s)\n",
        "f.close()"
      ],
      "execution_count": null,
      "outputs": []
    },
    {
      "cell_type": "code",
      "metadata": {
        "id": "evASoTfAl5v6"
      },
      "source": [
        "lines = ['Python\\n', 'Swift\\n', 'Java\\n', 'Kotlin']\n",
        "\n",
        "with open('languge.txt','w') as file:\n",
        "  file.writelines(lines)"
      ],
      "execution_count": null,
      "outputs": []
    },
    {
      "cell_type": "code",
      "metadata": {
        "id": "JiksMAR0mBXD"
      },
      "source": [
        "with open('language.txt','r') as file:\n",
        "  lines = file.readlines()\n",
        "  print(lines)"
      ],
      "execution_count": null,
      "outputs": []
    },
    {
      "cell_type": "markdown",
      "metadata": {
        "id": "ArbksK7rnhDV"
      },
      "source": [
        "**예외처리**"
      ]
    },
    {
      "cell_type": "code",
      "metadata": {
        "colab": {
          "base_uri": "https://localhost:8080/"
        },
        "id": "59Gadefbm8Fr",
        "outputId": "a2cfbde6-68d4-4b17-e614-6bc87f1d698b"
      },
      "source": [
        "#시험에 잘나옴\n",
        "while True:\n",
        "  try:\n",
        "    x = int(input('나누고자 하는 숫자를 입력: '))\n",
        "    y = 100 / x\n",
        "    print(y)\n",
        "  except:\n",
        "    print('예외가 발생했습니다.')\n",
        "    break\n"
      ],
      "execution_count": 1,
      "outputs": [
        {
          "output_type": "stream",
          "text": [
            "나누고자 하는 숫자를 입력: 10\n",
            "10.0\n",
            "나누고자 하는 숫자를 입력: 0\n",
            "예외가 발생했습니다.\n"
          ],
          "name": "stdout"
        }
      ]
    },
    {
      "cell_type": "code",
      "metadata": {
        "colab": {
          "base_uri": "https://localhost:8080/"
        },
        "id": "7dYCDH8xnfo7",
        "outputId": "6897c58f-fc10-4c29-e53d-64825f38413e"
      },
      "source": [
        "while True:\n",
        "  try:\n",
        "    x = int(input('나누고자 하는 숫자를 입력: '))\n",
        "    y = 100 / x\n",
        "  except:\n",
        "    print('예외가 발생했습니다.')\n",
        "    break\n",
        "  else:\n",
        "    print(y)"
      ],
      "execution_count": 2,
      "outputs": [
        {
          "output_type": "stream",
          "text": [
            "나누고자 하는 숫자를 입력: 10\n",
            "10.0\n",
            "나누고자 하는 숫자를 입력: 0\n",
            "예외가 발생했습니다.\n"
          ],
          "name": "stdout"
        }
      ]
    },
    {
      "cell_type": "code",
      "metadata": {
        "colab": {
          "base_uri": "https://localhost:8080/"
        },
        "id": "AvSOU_K3oCTG",
        "outputId": "a2eaec63-b29d-4a17-ce9f-4b4149282d09"
      },
      "source": [
        "while True:\n",
        "  try:\n",
        "    x = int(input('나누고자 하는 숫자를 입력: '))\n",
        "    y = 100 / x\n",
        "  except:\n",
        "    print('예외가 발생했습니다.')\n",
        "    break\n",
        "  else:\n",
        "    print(y)\n",
        "  finally:\n",
        "    print('프로그램 실행이 종료되었습니다.\\n')"
      ],
      "execution_count": 3,
      "outputs": [
        {
          "output_type": "stream",
          "text": [
            "나누고자 하는 숫자를 입력: 1-\n",
            "예외가 발생했습니다.\n",
            "프로그램 실행이 종료되었습니다.\n",
            "\n"
          ],
          "name": "stdout"
        }
      ]
    },
    {
      "cell_type": "markdown",
      "metadata": {
        "id": "IBQfdEbKpCGX"
      },
      "source": [
        "**웹크롤링**\n"
      ]
    },
    {
      "cell_type": "code",
      "metadata": {
        "colab": {
          "base_uri": "https://localhost:8080/"
        },
        "id": "EwJfqUAaozVb",
        "outputId": "751fdb93-89b7-419d-8a46-739bd5f70328"
      },
      "source": [
        "from bs4 import BeautifulSoup\n",
        "from urllib.request import urlopen\n",
        "with urlopen('https://en.wikipedia.org/wiki/Main_Page') as response:\n",
        "    soup = BeautifulSoup(response, 'html.parser')\n",
        "    for anchor in soup.find_all('a'):\n",
        "        print(anchor.get('href', '/'))"
      ],
      "execution_count": 4,
      "outputs": [
        {
          "output_type": "stream",
          "text": [
            "/\n",
            "#mw-head\n",
            "#searchInput\n",
            "/wiki/Wikipedia\n",
            "/wiki/Free_content\n",
            "/wiki/Encyclopedia\n",
            "/wiki/Help:Introduction_to_Wikipedia\n",
            "/wiki/Special:Statistics\n",
            "/wiki/English_language\n",
            "/wiki/Portal:The_arts\n",
            "/wiki/Portal:Biography\n",
            "/wiki/Portal:Geography\n",
            "/wiki/Portal:History\n",
            "/wiki/Portal:Mathematics\n",
            "/wiki/Portal:Science\n",
            "/wiki/Portal:Society\n",
            "/wiki/Portal:Technology\n",
            "/wiki/Wikipedia:Contents/Portals\n",
            "/wiki/File:George_W._Romney_official_portrait.jpg\n",
            "/wiki/George_W._Romney\n",
            "/wiki/Republican_Party_(United_States)\n",
            "/wiki/Mitt_Romney\n",
            "/wiki/Mormon_colonies_in_Mexico\n",
            "/wiki/Salt_Lake_City\n",
            "/wiki/American_Motors_Corporation\n",
            "/wiki/Richard_Nixon\n",
            "/wiki/United_States_Secretary_of_Housing_and_Urban_Development\n",
            "/wiki/Stake_(Latter_Day_Saints)\n",
            "/wiki/The_Church_of_Jesus_Christ_of_Latter-day_Saints\n",
            "/wiki/Regional_representative_of_the_Twelve\n",
            "/wiki/George_W._Romney\n",
            "/wiki/First_Punic_War\n",
            "/wiki/Lion-class_battlecruiser\n",
            "/wiki/Imaginative_Tales\n",
            "/wiki/Wikipedia:Today%27s_featured_article/July_2021\n",
            "https://lists.wikimedia.org/mailman/listinfo/daily-article-l\n",
            "/wiki/Wikipedia:Featured_articles\n",
            "/wiki/File:Little_Island_Panorama_(50236511951).jpg\n",
            "/wiki/Little_Island_at_Pier_55\n",
            "/wiki/Chetana_Nagavajara\n",
            "/wiki/Arts_criticism\n",
            "/wiki/12_East_53rd_Street\n",
            "/wiki/Pamela_Trotman_Reid\n",
            "/wiki/University_of_Saint_Joseph_(Connecticut)\n",
            "/wiki/Chang_Chen\n",
            "/wiki/The_Soul_(film)\n",
            "/wiki/Abdulrachman_Setjowibowo\n",
            "/wiki/Football_Association_of_Indonesia\n",
            "/wiki/Persija_Jakarta\n",
            "/wiki/Lorenzo_Ghiglieri\n",
            "/wiki/Royal_Palace_of_Madrid\n",
            "/wiki/White_House\n",
            "/wiki/Brown_Bear_Car_Wash\n",
            "/wiki/Opal_Lee\n",
            "/wiki/Juneteenth\n",
            "/wiki/Wikipedia:Recent_additions\n",
            "/wiki/Help:Your_first_article\n",
            "/wiki/Template_talk:Did_you_know\n",
            "/wiki/File:Kelly_Craft_poses_a_photo_with_Haitian_President_Moise_(cropped).jpg\n",
            "/wiki/Jovenel_Mo%C3%AFse\n",
            "/wiki/Assassination_of_Jovenel_Mo%C3%AFse\n",
            "/wiki/Petropavlovsk-Kamchatsky_Air_Flight_251_(2021)\n",
            "/wiki/Palana_Airport\n",
            "/wiki/Philippine_Air_Force\n",
            "/wiki/Lockheed_C-130_Hercules\n",
            "/wiki/2021_Philippine_Air_Force_C-130_crash\n",
            "/wiki/Sulu\n",
            "/wiki/President_of_South_Africa\n",
            "/wiki/Jacob_Zuma\n",
            "/wiki/Contempt_of_court\n",
            "/wiki/Portal:Current_events\n",
            "/wiki/COVID-19_pandemic\n",
            "/wiki/Deaths_in_2021\n",
            "/wiki/Big_Jake_(horse)\n",
            "/wiki/Didi_Contractor\n",
            "/wiki/William_H._Pauley_III\n",
            "/wiki/Fay_Allen\n",
            "/wiki/Bill_Ramsey_(singer)\n",
            "/wiki/Yasunori_Oshima\n",
            "/wiki/Wikipedia:In_the_news/Candidates\n",
            "/wiki/July_8\n",
            "/wiki/File:Kim_Jong_il_Portrait-2.jpg\n",
            "/wiki/1663\n",
            "/wiki/Charles_II_of_England\n",
            "/wiki/Baptists\n",
            "/wiki/John_Clarke_(Baptist_minister)\n",
            "/wiki/Rhode_Island_Royal_Charter\n",
            "/wiki/1709\n",
            "/wiki/Great_Northern_War\n",
            "/wiki/Charles_XII_of_Sweden\n",
            "/wiki/Peter_the_Great\n",
            "/wiki/Battle_of_Poltava\n",
            "/wiki/1947\n",
            "/wiki/Roswell_incident\n",
            "/wiki/United_States_Army_Air_Forces\n",
            "/wiki/Roswell,_New_Mexico\n",
            "/wiki/Weather_balloon\n",
            "/wiki/1994\n",
            "/wiki/Kim_Il-sung\n",
            "/wiki/Kim_Jong-il\n",
            "/wiki/Supreme_Leader_(North_Korean_title)\n",
            "/wiki/Qatr_al-Nada\n",
            "/wiki/Hugo_Boss_(fashion_designer)\n",
            "/wiki/Yarden_Gerbi\n",
            "/wiki/July_7\n",
            "/wiki/July_8\n",
            "/wiki/July_9\n",
            "/wiki/Wikipedia:Selected_anniversaries/July\n",
            "https://lists.wikimedia.org/mailman/listinfo/daily-article-l\n",
            "/wiki/List_of_days_of_the_year\n",
            "/wiki/File:WINDOM,_William-Treasury_(BEP_engraved_portrait).jpg\n",
            "/wiki/William_Windom\n",
            "/wiki/Minnesota\n",
            "/wiki/Republican_Party_(United_States)\n",
            "/wiki/United_States_House_of_Representatives\n",
            "/wiki/United_States_Senate\n",
            "/wiki/United_States_Secretary_of_the_Treasury\n",
            "/wiki/Line_engraving\n",
            "/wiki/United_States_Department_of_the_Treasury\n",
            "/wiki/Bureau_of_Engraving_and_Printing\n",
            "/wiki/US_Treasury_specimen_book\n",
            "/wiki/Bureau_of_Engraving_and_Printing\n",
            "/wiki/User:Godot13\n",
            "/wiki/Template:POTD/2021-07-07\n",
            "/wiki/Template:POTD/2021-07-06\n",
            "/wiki/Template:POTD/2021-07-05\n",
            "/wiki/Wikipedia:Picture_of_the_day/Archive\n",
            "/wiki/Wikipedia:Featured_pictures\n",
            "/wiki/Wikipedia:Community_portal\n",
            "/wiki/Wikipedia:Help_desk\n",
            "/wiki/Wikipedia:Local_Embassy\n",
            "/wiki/Wikipedia:Reference_desk\n",
            "/wiki/Wikipedia:News\n",
            "/wiki/Wikipedia:Village_pump\n",
            "/wiki/Wikimedia_Foundation\n",
            "https://wikimediafoundation.org/our-work/wikimedia-projects/\n",
            "https://commons.wikimedia.org/wiki/\n",
            "https://commons.wikimedia.org/wiki/\n",
            "https://www.mediawiki.org/wiki/\n",
            "https://www.mediawiki.org/wiki/\n",
            "https://meta.wikimedia.org/wiki/\n",
            "https://meta.wikimedia.org/wiki/\n",
            "https://en.wikibooks.org/wiki/\n",
            "https://en.wikibooks.org/wiki/\n",
            "https://www.wikidata.org/wiki/\n",
            "https://www.wikidata.org/wiki/\n",
            "https://en.wikinews.org/wiki/\n",
            "https://en.wikinews.org/wiki/\n",
            "https://en.wikiquote.org/wiki/\n",
            "https://en.wikiquote.org/wiki/\n",
            "https://en.wikisource.org/wiki/\n",
            "https://en.wikisource.org/wiki/\n",
            "https://species.wikimedia.org/wiki/\n",
            "https://species.wikimedia.org/wiki/\n",
            "https://en.wikiversity.org/wiki/\n",
            "https://en.wikiversity.org/wiki/\n",
            "https://en.wikivoyage.org/wiki/\n",
            "https://en.wikivoyage.org/wiki/\n",
            "https://en.wiktionary.org/wiki/\n",
            "https://en.wiktionary.org/wiki/\n",
            "/wiki/English_language\n",
            "https://meta.wikimedia.org/wiki/List_of_Wikipedias\n",
            "https://ar.wikipedia.org/wiki/\n",
            "https://de.wikipedia.org/wiki/\n",
            "https://es.wikipedia.org/wiki/\n",
            "https://fr.wikipedia.org/wiki/\n",
            "https://it.wikipedia.org/wiki/\n",
            "https://nl.wikipedia.org/wiki/\n",
            "https://ja.wikipedia.org/wiki/\n",
            "https://pl.wikipedia.org/wiki/\n",
            "https://pt.wikipedia.org/wiki/\n",
            "https://ru.wikipedia.org/wiki/\n",
            "https://sv.wikipedia.org/wiki/\n",
            "https://uk.wikipedia.org/wiki/\n",
            "https://vi.wikipedia.org/wiki/\n",
            "https://zh.wikipedia.org/wiki/\n",
            "https://id.wikipedia.org/wiki/\n",
            "https://ms.wikipedia.org/wiki/\n",
            "https://zh-min-nan.wikipedia.org/wiki/\n",
            "https://bg.wikipedia.org/wiki/\n",
            "https://ca.wikipedia.org/wiki/\n",
            "https://cs.wikipedia.org/wiki/\n",
            "https://da.wikipedia.org/wiki/\n",
            "https://eo.wikipedia.org/wiki/\n",
            "https://eu.wikipedia.org/wiki/\n",
            "https://fa.wikipedia.org/wiki/\n",
            "https://he.wikipedia.org/wiki/\n",
            "https://ko.wikipedia.org/wiki/\n",
            "https://hu.wikipedia.org/wiki/\n",
            "https://no.wikipedia.org/wiki/\n",
            "https://ro.wikipedia.org/wiki/\n",
            "https://sr.wikipedia.org/wiki/\n",
            "https://sh.wikipedia.org/wiki/\n",
            "https://fi.wikipedia.org/wiki/\n",
            "https://tr.wikipedia.org/wiki/\n",
            "https://ast.wikipedia.org/wiki/\n",
            "https://bs.wikipedia.org/wiki/\n",
            "https://et.wikipedia.org/wiki/\n",
            "https://el.wikipedia.org/wiki/\n",
            "https://simple.wikipedia.org/wiki/\n",
            "https://gl.wikipedia.org/wiki/\n",
            "https://hr.wikipedia.org/wiki/\n",
            "https://lv.wikipedia.org/wiki/\n",
            "https://lt.wikipedia.org/wiki/\n",
            "https://ml.wikipedia.org/wiki/\n",
            "https://mk.wikipedia.org/wiki/\n",
            "https://nn.wikipedia.org/wiki/\n",
            "https://sk.wikipedia.org/wiki/\n",
            "https://sl.wikipedia.org/wiki/\n",
            "https://th.wikipedia.org/wiki/\n",
            "https://en.wikipedia.org/w/index.php?title=Main_Page&oldid=1004593520\n",
            "/wiki/Special:MyTalk\n",
            "/wiki/Special:MyContributions\n",
            "/w/index.php?title=Special:CreateAccount&returnto=Main+Page\n",
            "/w/index.php?title=Special:UserLogin&returnto=Main+Page\n",
            "/wiki/Main_Page\n",
            "/wiki/Talk:Main_Page\n",
            "/wiki/Main_Page\n",
            "/w/index.php?title=Main_Page&action=edit\n",
            "/w/index.php?title=Main_Page&action=history\n",
            "/wiki/Main_Page\n",
            "/wiki/Main_Page\n",
            "/wiki/Wikipedia:Contents\n",
            "/wiki/Portal:Current_events\n",
            "/wiki/Special:Random\n",
            "/wiki/Wikipedia:About\n",
            "//en.wikipedia.org/wiki/Wikipedia:Contact_us\n",
            "https://donate.wikimedia.org/wiki/Special:FundraiserRedirector?utm_source=donate&utm_medium=sidebar&utm_campaign=C13_en.wikipedia.org&uselang=en\n",
            "/wiki/Help:Contents\n",
            "/wiki/Help:Introduction\n",
            "/wiki/Wikipedia:Community_portal\n",
            "/wiki/Special:RecentChanges\n",
            "/wiki/Wikipedia:File_Upload_Wizard\n",
            "/wiki/Special:WhatLinksHere/Main_Page\n",
            "/wiki/Special:RecentChangesLinked/Main_Page\n",
            "/wiki/Wikipedia:File_Upload_Wizard\n",
            "/wiki/Special:SpecialPages\n",
            "/w/index.php?title=Main_Page&oldid=1004593520\n",
            "/w/index.php?title=Main_Page&action=info\n",
            "/w/index.php?title=Special:CiteThisPage&page=Main_Page&id=1004593520&wpFormIdentifier=titleform\n",
            "https://www.wikidata.org/wiki/Special:EntityPage/Q5296\n",
            "/w/index.php?title=Special:DownloadAsPdf&page=Main_Page&action=show-download-screen\n",
            "/w/index.php?title=Main_Page&printable=yes\n",
            "https://commons.wikimedia.org/wiki/Main_Page\n",
            "https://www.mediawiki.org/wiki/MediaWiki\n",
            "https://meta.wikimedia.org/wiki/Main_Page\n",
            "https://wikisource.org/wiki/Main_Page\n",
            "https://species.wikimedia.org/wiki/Main_Page\n",
            "https://en.wikibooks.org/wiki/Main_Page\n",
            "https://www.wikidata.org/wiki/Wikidata:Main_Page\n",
            "https://wikimania.wikimedia.org/wiki/Wikimania\n",
            "https://en.wikinews.org/wiki/Main_Page\n",
            "https://en.wikiquote.org/wiki/Main_Page\n",
            "https://en.wikisource.org/wiki/Main_Page\n",
            "https://en.wikiversity.org/wiki/Wikiversity:Main_Page\n",
            "https://en.wikivoyage.org/wiki/Main_Page\n",
            "https://en.wiktionary.org/wiki/Wiktionary:Main_Page\n",
            "https://ar.wikipedia.org/wiki/\n",
            "https://bn.wikipedia.org/wiki/\n",
            "https://bg.wikipedia.org/wiki/\n",
            "https://bs.wikipedia.org/wiki/\n",
            "https://ca.wikipedia.org/wiki/\n",
            "https://cs.wikipedia.org/wiki/\n",
            "https://da.wikipedia.org/wiki/\n",
            "https://de.wikipedia.org/wiki/\n",
            "https://et.wikipedia.org/wiki/\n",
            "https://el.wikipedia.org/wiki/\n",
            "https://es.wikipedia.org/wiki/\n",
            "https://eo.wikipedia.org/wiki/\n",
            "https://eu.wikipedia.org/wiki/\n",
            "https://fa.wikipedia.org/wiki/\n",
            "https://fr.wikipedia.org/wiki/\n",
            "https://gl.wikipedia.org/wiki/\n",
            "https://ko.wikipedia.org/wiki/\n",
            "https://hr.wikipedia.org/wiki/\n",
            "https://id.wikipedia.org/wiki/\n",
            "https://it.wikipedia.org/wiki/\n",
            "https://he.wikipedia.org/wiki/\n",
            "https://ka.wikipedia.org/wiki/\n",
            "https://lv.wikipedia.org/wiki/\n",
            "https://lt.wikipedia.org/wiki/\n",
            "https://hu.wikipedia.org/wiki/\n",
            "https://mk.wikipedia.org/wiki/\n",
            "https://ms.wikipedia.org/wiki/\n",
            "https://nl.wikipedia.org/wiki/\n",
            "https://ja.wikipedia.org/wiki/\n",
            "https://no.wikipedia.org/wiki/\n",
            "https://nn.wikipedia.org/wiki/\n",
            "https://pl.wikipedia.org/wiki/\n",
            "https://pt.wikipedia.org/wiki/\n",
            "https://ro.wikipedia.org/wiki/\n",
            "https://ru.wikipedia.org/wiki/\n",
            "https://simple.wikipedia.org/wiki/\n",
            "https://sk.wikipedia.org/wiki/\n",
            "https://sl.wikipedia.org/wiki/\n",
            "https://sr.wikipedia.org/wiki/\n",
            "https://sh.wikipedia.org/wiki/\n",
            "https://fi.wikipedia.org/wiki/\n",
            "https://sv.wikipedia.org/wiki/\n",
            "https://th.wikipedia.org/wiki/\n",
            "https://tr.wikipedia.org/wiki/\n",
            "https://uk.wikipedia.org/wiki/\n",
            "https://vi.wikipedia.org/wiki/\n",
            "https://zh.wikipedia.org/wiki/\n",
            "//en.wikipedia.org/wiki/Wikipedia:Text_of_Creative_Commons_Attribution-ShareAlike_3.0_Unported_License\n",
            "//creativecommons.org/licenses/by-sa/3.0/\n",
            "//foundation.wikimedia.org/wiki/Terms_of_Use\n",
            "//foundation.wikimedia.org/wiki/Privacy_policy\n",
            "//www.wikimediafoundation.org/\n",
            "https://foundation.wikimedia.org/wiki/Privacy_policy\n",
            "/wiki/Wikipedia:About\n",
            "/wiki/Wikipedia:General_disclaimer\n",
            "//en.wikipedia.org/wiki/Wikipedia:Contact_us\n",
            "//en.m.wikipedia.org/w/index.php?title=Main_Page&mobileaction=toggle_view_mobile\n",
            "https://www.mediawiki.org/wiki/Special:MyLanguage/How_to_contribute\n",
            "https://stats.wikimedia.org/#/en.wikipedia.org\n",
            "https://foundation.wikimedia.org/wiki/Cookie_statement\n",
            "https://wikimediafoundation.org/\n",
            "https://www.mediawiki.org/\n"
          ],
          "name": "stdout"
        }
      ]
    },
    {
      "cell_type": "code",
      "metadata": {
        "colab": {
          "base_uri": "https://localhost:8080/"
        },
        "id": "uwY91dXG5FFn",
        "outputId": "465e839a-0dc9-4012-a1b4-faa7e113df4c"
      },
      "source": [
        "pip install beautifulsoup4"
      ],
      "execution_count": 7,
      "outputs": [
        {
          "output_type": "stream",
          "text": [
            "Requirement already satisfied: beautifulsoup4 in /usr/local/lib/python3.7/dist-packages (4.6.3)\n"
          ],
          "name": "stdout"
        }
      ]
    },
    {
      "cell_type": "code",
      "metadata": {
        "colab": {
          "base_uri": "https://localhost:8080/"
        },
        "id": "dYjcxmuk5SWe",
        "outputId": "2a342e48-6175-458b-862e-9a78f1642a87"
      },
      "source": [
        "from bs4 import BeautifulSoup\n",
        "import requests\n",
        "\n",
        "pageurl = requests.get('https://search.naver.com/search.naver?where=blog&sm=tab_viw.blog&query=%ED%8C%8C%EC%9D%B4%EC%8D%AC')\n",
        "\n",
        "soup = BeautifulSoup(pageurl.content, 'html.parser')\n",
        "\n",
        "result = soup.find_all(attrs = {'class':'api_txt_lines total_tit'})\n",
        "\n",
        "for i in result:\n",
        "    print(i.get_text())\n",
        "    print(i.attrs['href'])"
      ],
      "execution_count": 9,
      "outputs": [
        {
          "output_type": "stream",
          "text": [
            "파이썬학원 수월한 과정!\n",
            "https://blog.naver.com/bredpark1004?Redirect=Log&logNo=222423051052\n",
            "파이썬학원 확실하게 선택하다!\n",
            "https://blog.naver.com/notoutch?Redirect=Log&logNo=222420861603\n",
            "파이썬 학원 다니면서 기본기를 제대로 잡다!\n",
            "https://blog.naver.com/adorable722?Redirect=Log&logNo=222390951475\n",
            "파이썬 학원 선택 전 확인사항\n",
            "https://blog.naver.com/ys892015?Redirect=Log&logNo=222422266317\n",
            "파이썬학원 나의 선택을 믿어!\n",
            "https://blog.naver.com/romeyo1013?Redirect=Log&logNo=222393730116\n",
            "파이썬학원 : 기초 교육 후 BigData 취업 가능vs불가능?\n",
            "https://blog.naver.com/ridesafe?Redirect=Log&logNo=222324031810\n",
            "파이썬 코딩 - 독학과 학원의 차이점 (Ft. 교육기관추천)\n",
            "https://blog.naver.com/hjchoi1500?Redirect=Log&logNo=222402072356\n",
            "파이썬학원 : 기초부터 데이터 분석까지\n",
            "https://blog.naver.com/urmyver?Redirect=Log&logNo=222364555020\n",
            "파이썬학원 입문부터 바로잡기!\n",
            "https://blog.naver.com/jiyun4846?Redirect=Log&logNo=222409750044\n",
            "비트코인 API 정보 파이썬 모듈 pybithumb를 파이참... \n",
            "https://blog.naver.com/chogar?Redirect=Log&logNo=222400240613\n",
            "효율적인 코드 작성을 위한 - 고성능 파이썬\n",
            "https://blog.naver.com/happynut?Redirect=Log&logNo=222363105063\n",
            "전주코딩학원에서 코딩 파이썬 C언어 C++ 즐겁게 수업하고 있어요\n",
            "https://blog.naver.com/stupid1714?Redirect=Log&logNo=222303719592\n",
            "python 도서 <진지한 파이썬>\n",
            "https://blog.naver.com/nabilera1?Redirect=Log&logNo=222250174665\n",
            "분당파이썬학원 국비지원 받고 대비하자!\n",
            "https://blog.naver.com/zhoongumo?Redirect=Log&logNo=222405736809\n",
            "[파이썬 무료 강좌] 44강. 터틀 레이스 게임 만들기\n",
            "https://blog.naver.com/codethem?Redirect=Log&logNo=222397379264\n",
            "파이썬강의 아직도 고민하고 있는 사람이 있다?\n",
            "https://blog.naver.com/skyktc?Redirect=Log&logNo=222309629535\n",
            "21.06.25 파이썬 초급자의 자신감 뿜뿜 (직장인 공부일기)\n",
            "https://blog.naver.com/auggaagcc?Redirect=Log&logNo=222410458021\n",
            "코딩프로그램 : 어셈블리, 파이썬, C언어 학원 VS 과외 공부... \n",
            "https://blog.naver.com/ridesafe?Redirect=Log&logNo=222400135546\n",
            "파이썬 - FFmpeg Vidstab를 이용한 영상 안정화 Tkinter GUI... \n",
            "https://blog.naver.com/cosmosjs?Redirect=Log&logNo=222284763914\n",
            "파이썬 개발자 - 취업 방향 및 단계별 학습 방법\n",
            "https://blog.naver.com/hjchoi1500?Redirect=Log&logNo=222327888404\n",
            "파이썬 프로그래밍 : 사용하기 적합한 분야 (Feat. 취업)\n",
            "https://blog.naver.com/urmyver?Redirect=Log&logNo=222302061732\n",
            "파이썬으로 폴더내의 파일리스트 한번에 정리하기\n",
            "https://blog.naver.com/550sn?Redirect=Log&logNo=222385113610\n",
            "모의해킹, 파이썬, 라즈베리 파이, 패킷분석 등 온라인 무료 강의!!\n",
            "https://blog.naver.com/chogar?Redirect=Log&logNo=222377059601\n",
            "파이썬 공부 2,3일차_개요, 연산자\n",
            "https://blog.naver.com/wool60?Redirect=Log&logNo=222417821430\n",
            "파이썬 - 정렬 알고리즘(선택 정렬)\n",
            "https://blog.naver.com/happynut?Redirect=Log&logNo=222411289665\n",
            "[파이썬]데이터 사이언스 과정\n",
            "https://blog.naver.com/nabilera1?Redirect=Log&logNo=222411703876\n",
            "파이썬+Anaconda 환경준비\n",
            "https://blog.naver.com/ksseo63?Redirect=Log&logNo=222423179110\n",
            "[파이썬 기초 강좌] 47강. 먹이를 먹을 때마다 꼬리가 점점... \n",
            "https://blog.naver.com/codethem?Redirect=Log&logNo=222421380220\n",
            "파이썬인강 기초부터 실무까지!\n",
            "https://blog.naver.com/skyktc?Redirect=Log&logNo=222421862175\n",
            "파이썬(Python) - 비동기 처리 asyncio 설명 블로그 글 공유\n",
            "https://blog.naver.com/chandong83?Redirect=Log&logNo=222351777352\n"
          ],
          "name": "stdout"
        }
      ]
    },
    {
      "cell_type": "code",
      "metadata": {
        "colab": {
          "base_uri": "https://localhost:8080/"
        },
        "id": "49RzjD2wAywe",
        "outputId": "3c217210-110b-420c-df86-9e4c41b11f95"
      },
      "source": [
        "from bs4 import BeautifulSoup\n",
        "import requests\n",
        "import urllib.parse\n",
        "import urllib.request\n",
        "\n",
        "pageurl1 = 'https://search.naver.com/search.naver?where=blog&sm=tab_viw.blog&query='\n",
        "pageurl2 = urllib.parse.quote_plus(input('원하는 검색어 입력 : '))\n",
        "pageurl = pageurl1 + pageurl2\n",
        "\n",
        "html = urllib.request.urlopen(pageurl).read()\n",
        "\n",
        "soup = BeautifulSoup(html, 'html.parser')\n",
        "\n",
        "result = soup.find_all(attrs = {'class':'api_txt_lines total_tit'})\n",
        "\n",
        "for i in result:\n",
        "    print(i.get_text())\n",
        "    print(i.attrs['href'])"
      ],
      "execution_count": 11,
      "outputs": [
        {
          "output_type": "stream",
          "text": [
            "원하는 검색어 입력 : 복권\n",
            "수원 건담베이스에서 귀멸의칼날 제일복권 했죠!\n",
            "https://blog.naver.com/kjinho91?Redirect=Log&logNo=222419183215\n",
            "①연금복권에 당첨된 K군,만약 그랑에이지변액연금에... \n",
            "https://blog.naver.com/bulja200?Redirect=Log&logNo=222423526484\n",
            "동행복권홈페이지에서 로또 간단하게 구매하기\n",
            "https://blog.naver.com/kechpark?Redirect=Log&logNo=222382647134\n",
            "과연 될 수 있늘까요?ㅋㅋ 로또당첨 번호 정리 복권 동행복권\n",
            "https://blog.naver.com/minseon35?Redirect=Log&logNo=222423236686\n",
            "[피규어] 코드기어스 제일복권 ~ CODE BLACK in ASHFORD A상... \n",
            "https://blog.naver.com/ithwlsi55?Redirect=Log&logNo=222200591431\n",
            "오늘은 느낌이 좋아! 복권에 관한 심리\n",
            "https://blog.naver.com/mosfnet?Redirect=Log&logNo=222415463152\n",
            "로또 인터넷 구매 동행복권 PC버전 으로 온라인으로 편하게... \n",
            "https://blog.naver.com/sence255?Redirect=Log&logNo=222352869282\n",
            "마마집에서, 챠오판, PX마트, 복권, 요거트 만들기 두번째\n",
            "https://blog.naver.com/iii0216?Redirect=Log&logNo=222420779871\n",
            "생애첫 로또구입/안양 대동문고 앞 복권명당\n",
            "https://blog.naver.com/laughbar?Redirect=Log&logNo=222386054657\n",
            "[피규어] 리오레우스 (제일복권 몬스터헌터 A상) - 보기와... \n",
            "https://blog.naver.com/pigre93?Redirect=Log&logNo=222393513050\n",
            "동행복권의 로또 통계정보\n",
            "https://blog.naver.com/tan131?Redirect=Log&logNo=222385703884\n",
            "주택복권과 로또, 로또에 당첨돼도 살 수 없는 주택가격\n",
            "https://blog.naver.com/iamhankong?Redirect=Log&logNo=222287536426\n",
            "로또 인터넷 구매 1등 당첨지역과 당첨번호 조회 방법 (동행복권)\n",
            "https://blog.naver.com/sdedy?Redirect=Log&logNo=222365728127\n",
            "상계동 x 스파편의점 (복권명당)\n",
            "https://blog.naver.com/shintzu?Redirect=Log&logNo=222418889349\n",
            "6학년/두근두근 단어복권+컵타연주회+자리바꾸기\n",
            "https://blog.naver.com/coppy2?Redirect=Log&logNo=222402429919\n",
            "로또 시행사 동행복권 컨소시엄 관련주 제주반도체 주가 등... \n",
            "https://blog.naver.com/rec1820?Redirect=Log&logNo=222419903740\n",
            "성신여대 이치방쿠지 제일복권 성지 오타쿠지에서 대박 득템\n",
            "https://blog.naver.com/qorskawn5?Redirect=Log&logNo=222317909262\n",
            "[굿즈] 카드캡터 사쿠라 제일복권s ~ 챰, 팔찌, 케로 인형\n",
            "https://blog.naver.com/ithwlsi55?Redirect=Log&logNo=222205002721\n",
            "산림복지진흥원, 22년 복권기금 녹색자금사업 공모합니다!\n",
            "https://blog.naver.com/k-fowi?Redirect=Log&logNo=222421868035\n",
            "969회 로또 당첨번호 숫자 꿈꾸고 복권 샀더니 5등이네\n",
            "https://blog.naver.com/wilddog33?Redirect=Log&logNo=222411298887\n",
            "제일 복권은 포켓몬들과... 떠나자 ♪ \"제일 복권... \n",
            "https://blog.naver.com/swkim3499?Redirect=Log&logNo=222301777280\n",
            "QR코드로 로또복권 연금복권 당첨 확인하는 법(13)\n",
            "https://blog.naver.com/corbtnr?Redirect=Log&logNo=222414811917\n",
            "복권맛집 애니통 제일복권 온라인 뽑기(홈쿠지/대리뽑기)... \n",
            "https://blog.naver.com/anitong1?Redirect=Log&logNo=222415169162\n",
            "미국 백신 복권 첫 당첨 100만달러 수령\n",
            "https://blog.naver.com/guswls2208?Redirect=Log&logNo=222371721766\n",
            "제일복권 드래곤볼EX 지구를 지키는 전사들!! 드래곤볼 피규어... \n",
            "https://blog.naver.com/mugiwarajin?Redirect=Log&logNo=222151566522\n",
            "제일복권 오자루 베지터 가품\n",
            "https://blog.naver.com/kyty77?Redirect=Log&logNo=222308149767\n",
            "드래곤볼 슈퍼 제일복권 옴니버스Z 피규어 상세 이미지 공개\n",
            "https://blog.naver.com/ptj0969?Redirect=Log&logNo=222350894559\n",
            "시작 - 유럽컵 기간 모바일게임 및 스포츠 복권 매출 큰폭 증가\n",
            "https://blog.naver.com/daruijk?Redirect=Log&logNo=222365034245\n",
            "5월 29일 일상. 회수권과 오백 원, 주택복권에 추억을 회상하다\n",
            "https://blog.naver.com/kotra001?Redirect=Log&logNo=222374061202\n",
            "원피스 피규어 제일복권 레전드 오버타임 B상 골D로저 (골드... \n",
            "https://blog.naver.com/qorskawn5?Redirect=Log&logNo=222319273150\n"
          ],
          "name": "stdout"
        }
      ]
    },
    {
      "cell_type": "code",
      "metadata": {
        "colab": {
          "base_uri": "https://localhost:8080/"
        },
        "id": "ZYpNpHnXCxDj",
        "outputId": "a18d93e5-bee8-45a6-e4ff-c030a3cfe9d6"
      },
      "source": [
        "from bs4 import BeautifulSoup\n",
        "import requests\n",
        "import urllib.parse\n",
        "import urllib.request\n",
        "\n",
        "pageurl1 = 'https://search.naver.com/search.naver?where=blog&sm=tab_viw.blog&query='\n",
        "pageurl2 = urllib.parse.quote_plus(input('원하는 검색어 입력:'))\n",
        "pageurl = pageurl1 + pageurl2\n",
        "\n",
        "html = urllib.request.urlopen(pageurl).read()\n",
        "\n",
        "soup = BeautifulSoup(html, 'html.parser')\n",
        "\n",
        "result = soup.find_all(attrs = {'class':'api_txt_lines total_tit'})\n",
        "\n",
        "for i in result:\n",
        "    print(i.get_text())\n",
        "    print(i.attrs['href'])"
      ],
      "execution_count": 12,
      "outputs": [
        {
          "output_type": "stream",
          "text": [
            "원하는 검색어 입력:농구\n",
            "캐나다 농구 대표팀, 올림픽 진출 실패(는 모르겠고, 배럿아... \n",
            "https://blog.naver.com/rap1324?Redirect=Log&logNo=222420233857\n",
            "한국가스공사 농구단 창단! KOGAS를 농구코트에서 만나보세요!\n",
            "https://blog.naver.com/kogasblog?Redirect=Log&logNo=222424199009\n",
            "농구 포지션 별 역할과 번호 총정리 동탄농구교실\n",
            "https://blog.naver.com/miraclesports?Redirect=Log&logNo=222423085314\n",
            "2021 도쿄 올림픽 남자 농구 12개팀 확정! 금메달을 향하여!\n",
            "https://blog.naver.com/sangaabi?Redirect=Log&logNo=222422155974\n",
            "농구선수 허웅/벌레가 무서운 웅이선수/안싸우면다행이야 허웅\n",
            "https://blog.naver.com/milk916?Redirect=Log&logNo=222422103153\n",
            "2020 도쿄올림픽 최종예선 남자 농구 [각조 결승] 리투아니아... \n",
            "https://blog.naver.com/nadiatear0?Redirect=Log&logNo=222419784018\n",
            "도코 올림픽 남자 농구 대표팀 예선전에 대한 짧은 잡담\n",
            "https://blog.naver.com/b612flower?Redirect=Log&logNo=222418207914\n",
            "횡성국민체육센터 \"윌슨WILSON배 초등학생 농구대회... \n",
            "https://blog.naver.com/lolitahs?Redirect=Log&logNo=222423588643\n",
            "장철한 20170910 텐센트 슈퍼 펭귄 농구 마스터전\n",
            "https://blog.naver.com/emotion0822?Redirect=Log&logNo=222391382201\n",
            "농구 상식 확인하고 가세요!\n",
            "https://blog.naver.com/wds5355?Redirect=Log&logNo=222423494177\n",
            "2인용농구 플레시게임\n",
            "https://blog.naver.com/hoiung8672?Redirect=Log&logNo=222397384587\n",
            "jtbc예능 뭉쳐야 쏜다 추억의 농구대잔치를 마지막으로~~\n",
            "https://blog.naver.com/ss1109s?Redirect=Log&logNo=222421309004\n",
            "의정부축구교실 의정부농구교실 방문기!\n",
            "https://blog.naver.com/isy4374?Redirect=Log&logNo=222412894946\n",
            "아들과 농구\n",
            "https://blog.naver.com/ibmlove?Redirect=Log&logNo=222416042100\n",
            "[초중등 그룹 농구 레슨] B반 28회 / 홍대 인아우트 실내 농구장... \n",
            "https://blog.naver.com/soomgobasket?Redirect=Log&logNo=222422266005\n",
            "분당 유소년 농구_발리 유소년 초등 농구수업 현장\n",
            "https://blog.naver.com/ballydesign?Redirect=Log&logNo=222357063020\n",
            "야니스 아테토쿤보 :: 크리스폴 :: 데빈 부커 :: 농구 :: MFB ::\n",
            "https://blog.naver.com/pbh5856?Redirect=Log&logNo=222419845049\n",
            "농구선수 허웅 /나의 뉴페이스❤코삼부자 허웅\n",
            "https://blog.naver.com/milk916?Redirect=Log&logNo=222420344381\n",
            "서울 동대문 농구 전용 체육관\n",
            "https://blog.naver.com/j3man1?Redirect=Log&logNo=222420835726\n",
            "AGAIN 농구대잔치 개막전. 레전드 선수들과 뭉쏜 팀의 4강전.\n",
            "https://blog.naver.com/guramy46?Redirect=Log&logNo=222420193076\n",
            "올림픽 최종예선 [농구] 한국 베네수엘라 하이라이트, A조 순위... \n",
            "https://blog.naver.com/nadiatear0?Redirect=Log&logNo=222416129547\n",
            "천안농구교실 아산농구교실 KBA농구교실 3,4학년 수업\n",
            "https://blog.naver.com/smile0507?Redirect=Log&logNo=222422800404\n",
            "부천농구교실 여름방학특강, 부천 농구방학특강!\n",
            "https://blog.naver.com/team5sports?Redirect=Log&logNo=222421083382\n",
            "일산 덕이동 실내 농구장! 3 대 3, 4 대 4 농구!\n",
            "https://blog.naver.com/dydtlsrl1?Redirect=Log&logNo=222422670739\n",
            "[아이치이 연연극장] 멋지게 농구하는 주생진 20210707\n",
            "https://blog.naver.com/walkorthink?Redirect=Log&logNo=222423909298\n",
            "[인터뷰] '농구X힙합' 스포츠와 예술의 조화, \"프리스타일 농구... \n",
            "https://blog.naver.com/kusf_sport?Redirect=Log&logNo=222420829523\n",
            "2021년 PEC 여름방학특강[피이씨 방학특강 축구 농구 야구... \n",
            "https://blog.naver.com/altongzang?Redirect=Log&logNo=222406715271\n",
            "[초중등 그룹 농구 레슨] B반 27회 / 홍대 인아우트 실내 농구장... \n",
            "https://blog.naver.com/soomgobasket?Redirect=Log&logNo=222412976499\n",
            "전하께서 오시려나요? (feat. 농구하는 잘생긴 주생 교수님)\n",
            "https://blog.naver.com/maroooo?Redirect=Log&logNo=222423941140\n",
            "야니스 아테토쿤보 :: 크리스폴 :: 데빈 부커 :: 농구 :: MFB ::\n",
            "https://blog.naver.com/pbh5856?Redirect=Log&logNo=222422746824\n"
          ],
          "name": "stdout"
        }
      ]
    },
    {
      "cell_type": "code",
      "metadata": {
        "colab": {
          "base_uri": "https://localhost:8080/"
        },
        "id": "ZDcbA5tjEUZ5",
        "outputId": "4abc4e94-de76-4fc3-9137-1b6f8aa8f873"
      },
      "source": [
        "from bs4 import BeautifulSoup\n",
        "import requests\n",
        "import urllib.parse\n",
        "import urllib.request\n",
        "\n",
        "pageurl1 = 'https://search.daum.net/search?w=blog&DA=PGD&enc=utf8&q='\n",
        "pageurl2 = urllib.parse.quote_plus(input('원하는 검색어를 입력:'))\n",
        "pageurl3 = '&page='\n",
        "pageurl4 = urllib.parse.quote_plus(input('페이지 입력:'))\n",
        "\n",
        "pageurl = requests.get(pageurl1 + pageurl2 + pageurl3 + pageurl4)\n",
        "\n",
        "soup = BeautifulSoup(pageurl.content, 'html.parser')\n",
        "\n",
        "result = soup.find_all(attrs = {'class':'f_link_b'})\n",
        "\n",
        "for i in result:\n",
        "    print(i.get_text())\n",
        "    print(i.attrs['href'])"
      ],
      "execution_count": 13,
      "outputs": [
        {
          "output_type": "stream",
          "text": [
            "원하는 검색어를 입력:휴식\n",
            "페이지 입력:1\n",
            "휴식 By CrazyInBooks\n",
            "http://crazyinbooks.tistory.com/21\n",
            "[연신내 맛집] 휴식\n",
            "http://blog.naver.com/zinoo_/222387625770\n",
            "사용해보고 만족한 휴식매트 제품 인기 BEST\n",
            "http://beauttyc.tistory.com/24\n",
            "마비노기 - 휴식 2랭 ---> 1랭\n",
            "http://blog.naver.com/plwmf9667/222413292438\n",
            "연신내 파스타 / 피자 맛집 휴식 후기\n",
            "http://blog.naver.com/kojuhee15311/222423099873\n",
            "[캠프닉] 파주 - 옳은휴식하루\n",
            "http://blog.naver.com/881123_ra/222400755286\n",
            "망원동 술집 휴식당 파스타 존맛탱이었던 망리단길 맛집\n",
            "http://blog.naver.com/o_oaacca/222408021471\n",
            "연신내 맛집 파스타가 최고였던 '휴식'\n",
            "http://blog.naver.com/ysl6161015/222416644303\n",
            "잠시 휴식 그리워 찾은 도솔미술관\n",
            "http://blog.naver.com/sens54/222405758909\n",
            "휴식 조아\n",
            "http://blog.naver.com/jeongwoninini00110/222421703644\n"
          ],
          "name": "stdout"
        }
      ]
    },
    {
      "cell_type": "code",
      "metadata": {
        "id": "pTSK7bH_I8L_"
      },
      "source": [
        "from bs4 import BeautifulSoup\n",
        "import requests\n",
        "import urllib.parse\n",
        "import urllib.request\n",
        "\n",
        "pageurl1 = 'https://search.daum.net/search?w=blog&DA=PGD&enc=utf8&q='\n",
        "pageurl2 = urllib.parse.quote_plus(input('원하는 검색어를 입력:'))\n",
        "pageurl3 = '&page='\n",
        "pageurl4 = input('몇 페이지 까지 크롤링:')\n",
        "\n",
        "pageurl = requests.get(pageurl1 + pageurl2 + pageurl3 + pageurl4)\n",
        "\n",
        "soup = BeautifulSoup(pageurl.content, 'html.parser')\n",
        "\n",
        "result = soup.find_all(attrs = {'class':'f_link_b'})\n",
        "\n",
        "print(result)\n",
        "\n",
        "for a in range(1, int(pageurl4) + 1):\n",
        "    for i in result:\n",
        "        print(i.get_text())\n",
        "        print(i.attrs['href'])"
      ],
      "execution_count": null,
      "outputs": []
    },
    {
      "cell_type": "code",
      "metadata": {
        "colab": {
          "base_uri": "https://localhost:8080/"
        },
        "id": "eaYlSyM0Pabh",
        "outputId": "49e13eb1-37ff-4d9d-c3c8-c5019d0d895b"
      },
      "source": [
        "pip install selenium"
      ],
      "execution_count": 14,
      "outputs": [
        {
          "output_type": "stream",
          "text": [
            "Collecting selenium\n",
            "\u001b[?25l  Downloading https://files.pythonhosted.org/packages/80/d6/4294f0b4bce4de0abf13e17190289f9d0613b0a44e5dd6a7f5ca98459853/selenium-3.141.0-py2.py3-none-any.whl (904kB)\n",
            "\r\u001b[K     |▍                               | 10kB 14.0MB/s eta 0:00:01\r\u001b[K     |▊                               | 20kB 20.0MB/s eta 0:00:01\r\u001b[K     |█                               | 30kB 23.2MB/s eta 0:00:01\r\u001b[K     |█▌                              | 40kB 17.2MB/s eta 0:00:01\r\u001b[K     |█▉                              | 51kB 8.4MB/s eta 0:00:01\r\u001b[K     |██▏                             | 61kB 8.7MB/s eta 0:00:01\r\u001b[K     |██▌                             | 71kB 8.5MB/s eta 0:00:01\r\u001b[K     |███                             | 81kB 8.4MB/s eta 0:00:01\r\u001b[K     |███▎                            | 92kB 8.6MB/s eta 0:00:01\r\u001b[K     |███▋                            | 102kB 7.8MB/s eta 0:00:01\r\u001b[K     |████                            | 112kB 7.8MB/s eta 0:00:01\r\u001b[K     |████▍                           | 122kB 7.8MB/s eta 0:00:01\r\u001b[K     |████▊                           | 133kB 7.8MB/s eta 0:00:01\r\u001b[K     |█████                           | 143kB 7.8MB/s eta 0:00:01\r\u001b[K     |█████▍                          | 153kB 7.8MB/s eta 0:00:01\r\u001b[K     |█████▉                          | 163kB 7.8MB/s eta 0:00:01\r\u001b[K     |██████▏                         | 174kB 7.8MB/s eta 0:00:01\r\u001b[K     |██████▌                         | 184kB 7.8MB/s eta 0:00:01\r\u001b[K     |██████▉                         | 194kB 7.8MB/s eta 0:00:01\r\u001b[K     |███████▎                        | 204kB 7.8MB/s eta 0:00:01\r\u001b[K     |███████▋                        | 215kB 7.8MB/s eta 0:00:01\r\u001b[K     |████████                        | 225kB 7.8MB/s eta 0:00:01\r\u001b[K     |████████▎                       | 235kB 7.8MB/s eta 0:00:01\r\u001b[K     |████████▊                       | 245kB 7.8MB/s eta 0:00:01\r\u001b[K     |█████████                       | 256kB 7.8MB/s eta 0:00:01\r\u001b[K     |█████████▍                      | 266kB 7.8MB/s eta 0:00:01\r\u001b[K     |█████████▉                      | 276kB 7.8MB/s eta 0:00:01\r\u001b[K     |██████████▏                     | 286kB 7.8MB/s eta 0:00:01\r\u001b[K     |██████████▌                     | 296kB 7.8MB/s eta 0:00:01\r\u001b[K     |██████████▉                     | 307kB 7.8MB/s eta 0:00:01\r\u001b[K     |███████████▎                    | 317kB 7.8MB/s eta 0:00:01\r\u001b[K     |███████████▋                    | 327kB 7.8MB/s eta 0:00:01\r\u001b[K     |████████████                    | 337kB 7.8MB/s eta 0:00:01\r\u001b[K     |████████████▎                   | 348kB 7.8MB/s eta 0:00:01\r\u001b[K     |████████████▊                   | 358kB 7.8MB/s eta 0:00:01\r\u001b[K     |█████████████                   | 368kB 7.8MB/s eta 0:00:01\r\u001b[K     |█████████████▍                  | 378kB 7.8MB/s eta 0:00:01\r\u001b[K     |█████████████▊                  | 389kB 7.8MB/s eta 0:00:01\r\u001b[K     |██████████████▏                 | 399kB 7.8MB/s eta 0:00:01\r\u001b[K     |██████████████▌                 | 409kB 7.8MB/s eta 0:00:01\r\u001b[K     |██████████████▉                 | 419kB 7.8MB/s eta 0:00:01\r\u001b[K     |███████████████▏                | 430kB 7.8MB/s eta 0:00:01\r\u001b[K     |███████████████▋                | 440kB 7.8MB/s eta 0:00:01\r\u001b[K     |████████████████                | 450kB 7.8MB/s eta 0:00:01\r\u001b[K     |████████████████▎               | 460kB 7.8MB/s eta 0:00:01\r\u001b[K     |████████████████▋               | 471kB 7.8MB/s eta 0:00:01\r\u001b[K     |█████████████████               | 481kB 7.8MB/s eta 0:00:01\r\u001b[K     |█████████████████▍              | 491kB 7.8MB/s eta 0:00:01\r\u001b[K     |█████████████████▊              | 501kB 7.8MB/s eta 0:00:01\r\u001b[K     |██████████████████▏             | 512kB 7.8MB/s eta 0:00:01\r\u001b[K     |██████████████████▌             | 522kB 7.8MB/s eta 0:00:01\r\u001b[K     |██████████████████▉             | 532kB 7.8MB/s eta 0:00:01\r\u001b[K     |███████████████████▏            | 542kB 7.8MB/s eta 0:00:01\r\u001b[K     |███████████████████▋            | 552kB 7.8MB/s eta 0:00:01\r\u001b[K     |████████████████████            | 563kB 7.8MB/s eta 0:00:01\r\u001b[K     |████████████████████▎           | 573kB 7.8MB/s eta 0:00:01\r\u001b[K     |████████████████████▋           | 583kB 7.8MB/s eta 0:00:01\r\u001b[K     |█████████████████████           | 593kB 7.8MB/s eta 0:00:01\r\u001b[K     |█████████████████████▍          | 604kB 7.8MB/s eta 0:00:01\r\u001b[K     |█████████████████████▊          | 614kB 7.8MB/s eta 0:00:01\r\u001b[K     |██████████████████████          | 624kB 7.8MB/s eta 0:00:01\r\u001b[K     |██████████████████████▌         | 634kB 7.8MB/s eta 0:00:01\r\u001b[K     |██████████████████████▉         | 645kB 7.8MB/s eta 0:00:01\r\u001b[K     |███████████████████████▏        | 655kB 7.8MB/s eta 0:00:01\r\u001b[K     |███████████████████████▌        | 665kB 7.8MB/s eta 0:00:01\r\u001b[K     |████████████████████████        | 675kB 7.8MB/s eta 0:00:01\r\u001b[K     |████████████████████████▎       | 686kB 7.8MB/s eta 0:00:01\r\u001b[K     |████████████████████████▋       | 696kB 7.8MB/s eta 0:00:01\r\u001b[K     |█████████████████████████       | 706kB 7.8MB/s eta 0:00:01\r\u001b[K     |█████████████████████████▍      | 716kB 7.8MB/s eta 0:00:01\r\u001b[K     |█████████████████████████▊      | 727kB 7.8MB/s eta 0:00:01\r\u001b[K     |██████████████████████████      | 737kB 7.8MB/s eta 0:00:01\r\u001b[K     |██████████████████████████▍     | 747kB 7.8MB/s eta 0:00:01\r\u001b[K     |██████████████████████████▉     | 757kB 7.8MB/s eta 0:00:01\r\u001b[K     |███████████████████████████▏    | 768kB 7.8MB/s eta 0:00:01\r\u001b[K     |███████████████████████████▌    | 778kB 7.8MB/s eta 0:00:01\r\u001b[K     |████████████████████████████    | 788kB 7.8MB/s eta 0:00:01\r\u001b[K     |████████████████████████████▎   | 798kB 7.8MB/s eta 0:00:01\r\u001b[K     |████████████████████████████▋   | 808kB 7.8MB/s eta 0:00:01\r\u001b[K     |█████████████████████████████   | 819kB 7.8MB/s eta 0:00:01\r\u001b[K     |█████████████████████████████▍  | 829kB 7.8MB/s eta 0:00:01\r\u001b[K     |█████████████████████████████▊  | 839kB 7.8MB/s eta 0:00:01\r\u001b[K     |██████████████████████████████  | 849kB 7.8MB/s eta 0:00:01\r\u001b[K     |██████████████████████████████▍ | 860kB 7.8MB/s eta 0:00:01\r\u001b[K     |██████████████████████████████▉ | 870kB 7.8MB/s eta 0:00:01\r\u001b[K     |███████████████████████████████▏| 880kB 7.8MB/s eta 0:00:01\r\u001b[K     |███████████████████████████████▌| 890kB 7.8MB/s eta 0:00:01\r\u001b[K     |███████████████████████████████▉| 901kB 7.8MB/s eta 0:00:01\r\u001b[K     |████████████████████████████████| 911kB 7.8MB/s \n",
            "\u001b[?25hRequirement already satisfied: urllib3 in /usr/local/lib/python3.7/dist-packages (from selenium) (1.24.3)\n",
            "Installing collected packages: selenium\n",
            "Successfully installed selenium-3.141.0\n"
          ],
          "name": "stdout"
        }
      ]
    },
    {
      "cell_type": "code",
      "metadata": {
        "id": "iS7jKPcyTSEC"
      },
      "source": [
        ""
      ],
      "execution_count": null,
      "outputs": []
    }
  ]
}