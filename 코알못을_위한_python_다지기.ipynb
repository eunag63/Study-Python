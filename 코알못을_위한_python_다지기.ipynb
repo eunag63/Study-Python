{
  "nbformat": 4,
  "nbformat_minor": 0,
  "metadata": {
    "colab": {
      "name": "코알못을 위한 python 다지기.ipynb",
      "provenance": [],
      "authorship_tag": "ABX9TyNqqGy2jjXOQoP7rgSWhPNC",
      "include_colab_link": true
    },
    "kernelspec": {
      "name": "python3",
      "display_name": "Python 3"
    },
    "language_info": {
      "name": "python"
    }
  },
  "cells": [
    {
      "cell_type": "markdown",
      "metadata": {
        "id": "view-in-github",
        "colab_type": "text"
      },
      "source": [
        "<a href=\"https://colab.research.google.com/github/eunag63/Study-Python/blob/main/%EC%BD%94%EC%95%8C%EB%AA%BB%EC%9D%84_%EC%9C%84%ED%95%9C_python_%EB%8B%A4%EC%A7%80%EA%B8%B0.ipynb\" target=\"_parent\"><img src=\"https://colab.research.google.com/assets/colab-badge.svg\" alt=\"Open In Colab\"/></a>"
      ]
    },
    {
      "cell_type": "code",
      "metadata": {
        "colab": {
          "base_uri": "https://localhost:8080/"
        },
        "id": "K0O-1kPpupdU",
        "outputId": "850602db-7f2a-4479-d9c3-1104b6496618"
      },
      "source": [
        "from google.colab import drive\n",
        "drive.mount('/content/drive')"
      ],
      "execution_count": 12,
      "outputs": [
        {
          "output_type": "stream",
          "text": [
            "Mounted at /content/drive\n"
          ],
          "name": "stdout"
        }
      ]
    },
    {
      "cell_type": "code",
      "metadata": {
        "colab": {
          "base_uri": "https://localhost:8080/"
        },
        "id": "u87rmeecu2aC",
        "outputId": "aa787734-4ea9-40e7-df67-4fbaa32026bd"
      },
      "source": [
        "!git clone https://github.com/eunag63/Study-Python.git"
      ],
      "execution_count": 17,
      "outputs": [
        {
          "output_type": "stream",
          "text": [
            "fatal: destination path 'Study-Python' already exists and is not an empty directory.\n"
          ],
          "name": "stdout"
        }
      ]
    },
    {
      "cell_type": "code",
      "metadata": {
        "colab": {
          "base_uri": "https://localhost:8080/"
        },
        "id": "le7s9PiIpBB1",
        "outputId": "220250b6-d29c-4168-c66e-d009887eb53c"
      },
      "source": [
        "print('hello world')"
      ],
      "execution_count": 1,
      "outputs": [
        {
          "output_type": "stream",
          "text": [
            "hello world\n"
          ],
          "name": "stdout"
        }
      ]
    },
    {
      "cell_type": "markdown",
      "metadata": {
        "id": "xCZeMjgnpFpA"
      },
      "source": [
        "**사칙연산**"
      ]
    },
    {
      "cell_type": "code",
      "metadata": {
        "colab": {
          "base_uri": "https://localhost:8080/"
        },
        "id": "A89Mhw1hpD5L",
        "outputId": "ffabf8b2-691b-4cae-9ce8-1ba941489cc3"
      },
      "source": [
        "100+200"
      ],
      "execution_count": 2,
      "outputs": [
        {
          "output_type": "execute_result",
          "data": {
            "text/plain": [
              "300"
            ]
          },
          "metadata": {
            "tags": []
          },
          "execution_count": 2
        }
      ]
    },
    {
      "cell_type": "code",
      "metadata": {
        "colab": {
          "base_uri": "https://localhost:8080/"
        },
        "id": "F3j284vVpC0E",
        "outputId": "d382f9ab-8e26-4562-9380-b83fd59f5af8"
      },
      "source": [
        "200/33"
      ],
      "execution_count": 3,
      "outputs": [
        {
          "output_type": "execute_result",
          "data": {
            "text/plain": [
              "6.0606060606060606"
            ]
          },
          "metadata": {
            "tags": []
          },
          "execution_count": 3
        }
      ]
    },
    {
      "cell_type": "code",
      "metadata": {
        "colab": {
          "base_uri": "https://localhost:8080/"
        },
        "id": "-sggke_dpLQR",
        "outputId": "4a7dca39-eca2-49c6-dad1-cdf298a3ec1d"
      },
      "source": [
        "200//33"
      ],
      "execution_count": 4,
      "outputs": [
        {
          "output_type": "execute_result",
          "data": {
            "text/plain": [
              "6"
            ]
          },
          "metadata": {
            "tags": []
          },
          "execution_count": 4
        }
      ]
    },
    {
      "cell_type": "code",
      "metadata": {
        "colab": {
          "base_uri": "https://localhost:8080/"
        },
        "id": "8tYMPd-5pNIP",
        "outputId": "e7428750-22bb-4abb-fecd-aae380742909"
      },
      "source": [
        "5**2"
      ],
      "execution_count": 5,
      "outputs": [
        {
          "output_type": "execute_result",
          "data": {
            "text/plain": [
              "25"
            ]
          },
          "metadata": {
            "tags": []
          },
          "execution_count": 5
        }
      ]
    },
    {
      "cell_type": "code",
      "metadata": {
        "colab": {
          "base_uri": "https://localhost:8080/"
        },
        "id": "5QkrD9iLpQFc",
        "outputId": "d3516f1f-a178-403c-d84e-2e9f377ca43d"
      },
      "source": [
        "50%2"
      ],
      "execution_count": 6,
      "outputs": [
        {
          "output_type": "execute_result",
          "data": {
            "text/plain": [
              "0"
            ]
          },
          "metadata": {
            "tags": []
          },
          "execution_count": 6
        }
      ]
    },
    {
      "cell_type": "code",
      "metadata": {
        "id": "4WvphCghpRhE"
      },
      "source": [
        "#가독성을 위해 띄어쓰기 하는 습관을 가져야 한다!"
      ],
      "execution_count": 7,
      "outputs": []
    },
    {
      "cell_type": "code",
      "metadata": {
        "colab": {
          "base_uri": "https://localhost:8080/"
        },
        "id": "dFpMW8vOpTjY",
        "outputId": "8019418c-146f-4417-b42a-c1ebd4df69e4"
      },
      "source": [
        "a = 100\n",
        "b = 200\n",
        "c = a + b\n",
        "print(c)"
      ],
      "execution_count": 8,
      "outputs": [
        {
          "output_type": "stream",
          "text": [
            "300\n"
          ],
          "name": "stdout"
        }
      ]
    },
    {
      "cell_type": "code",
      "metadata": {
        "colab": {
          "base_uri": "https://localhost:8080/"
        },
        "id": "ewQyd-jipU_6",
        "outputId": "935933fa-e517-45bf-baf7-e106eed583f1"
      },
      "source": [
        "#미션\n",
        "\n",
        "a = 1000\n",
        "b = 2000\n",
        "c = a\n",
        "a = b\n",
        "b = c\n",
        "\n",
        "print(a)\n",
        "print(b)"
      ],
      "execution_count": 9,
      "outputs": [
        {
          "output_type": "stream",
          "text": [
            "2000\n",
            "1000\n"
          ],
          "name": "stdout"
        }
      ]
    },
    {
      "cell_type": "code",
      "metadata": {
        "colab": {
          "base_uri": "https://localhost:8080/"
        },
        "id": "xNd2OWNbpWbj",
        "outputId": "d7a11800-8cb3-48f6-e008-d129ceeb4783"
      },
      "source": [
        "#미션 코드\n",
        "\n",
        "a = 1000\n",
        "b = 2000\n",
        "\n",
        "temp = a\n",
        "a = b\n",
        "b = temp\n",
        "\n",
        "print(a,b)"
      ],
      "execution_count": 10,
      "outputs": [
        {
          "output_type": "stream",
          "text": [
            "2000 1000\n"
          ],
          "name": "stdout"
        }
      ]
    },
    {
      "cell_type": "code",
      "metadata": {
        "colab": {
          "base_uri": "https://localhost:8080/"
        },
        "id": "-f5gWaZFpYLH",
        "outputId": "9df70fe0-8ce8-443a-e6cf-59f80a3b8ba3"
      },
      "source": [
        "#미션 다른 사람 코드\n",
        "a = 1000\n",
        "b = 2000\n",
        "a,b = b,a\n",
        "print(a,b)"
      ],
      "execution_count": 11,
      "outputs": [
        {
          "output_type": "stream",
          "text": [
            "2000 1000\n"
          ],
          "name": "stdout"
        }
      ]
    },
    {
      "cell_type": "code",
      "metadata": {
        "id": "t_bfWQq7pgUU"
      },
      "source": [
        ""
      ],
      "execution_count": null,
      "outputs": []
    }
  ]
}