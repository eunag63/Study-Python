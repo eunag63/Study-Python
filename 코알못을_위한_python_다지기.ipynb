{
  "nbformat": 4,
  "nbformat_minor": 0,
  "metadata": {
    "colab": {
      "name": "코알못을 위한 python 다지기.ipynb",
      "provenance": [],
      "collapsed_sections": [],
      "authorship_tag": "ABX9TyPgG0hR95Qe9DE89ZE3Y/qo",
      "include_colab_link": true
    },
    "kernelspec": {
      "name": "python3",
      "display_name": "Python 3"
    },
    "language_info": {
      "name": "python"
    }
  },
  "cells": [
    {
      "cell_type": "markdown",
      "metadata": {
        "id": "view-in-github",
        "colab_type": "text"
      },
      "source": [
        "<a href=\"https://colab.research.google.com/github/eunag63/Study-Python/blob/main/%EC%BD%94%EC%95%8C%EB%AA%BB%EC%9D%84_%EC%9C%84%ED%95%9C_python_%EB%8B%A4%EC%A7%80%EA%B8%B0.ipynb\" target=\"_parent\"><img src=\"https://colab.research.google.com/assets/colab-badge.svg\" alt=\"Open In Colab\"/></a>"
      ]
    },
    {
      "cell_type": "code",
      "metadata": {
        "colab": {
          "base_uri": "https://localhost:8080/"
        },
        "id": "K0O-1kPpupdU",
        "outputId": "850602db-7f2a-4479-d9c3-1104b6496618"
      },
      "source": [
        "from google.colab import drive\n",
        "drive.mount('/content/drive')"
      ],
      "execution_count": null,
      "outputs": [
        {
          "output_type": "stream",
          "text": [
            "Mounted at /content/drive\n"
          ],
          "name": "stdout"
        }
      ]
    },
    {
      "cell_type": "code",
      "metadata": {
        "colab": {
          "base_uri": "https://localhost:8080/"
        },
        "id": "le7s9PiIpBB1",
        "outputId": "220250b6-d29c-4168-c66e-d009887eb53c"
      },
      "source": [
        "print('hello world')"
      ],
      "execution_count": null,
      "outputs": [
        {
          "output_type": "stream",
          "text": [
            "hello world\n"
          ],
          "name": "stdout"
        }
      ]
    },
    {
      "cell_type": "markdown",
      "metadata": {
        "id": "xCZeMjgnpFpA"
      },
      "source": [
        "**사칙연산**"
      ]
    },
    {
      "cell_type": "code",
      "metadata": {
        "colab": {
          "base_uri": "https://localhost:8080/"
        },
        "id": "A89Mhw1hpD5L",
        "outputId": "ffabf8b2-691b-4cae-9ce8-1ba941489cc3"
      },
      "source": [
        "100+200"
      ],
      "execution_count": null,
      "outputs": [
        {
          "output_type": "execute_result",
          "data": {
            "text/plain": [
              "300"
            ]
          },
          "metadata": {
            "tags": []
          },
          "execution_count": 2
        }
      ]
    },
    {
      "cell_type": "code",
      "metadata": {
        "colab": {
          "base_uri": "https://localhost:8080/"
        },
        "id": "F3j284vVpC0E",
        "outputId": "d382f9ab-8e26-4562-9380-b83fd59f5af8"
      },
      "source": [
        "200/33"
      ],
      "execution_count": null,
      "outputs": [
        {
          "output_type": "execute_result",
          "data": {
            "text/plain": [
              "6.0606060606060606"
            ]
          },
          "metadata": {
            "tags": []
          },
          "execution_count": 3
        }
      ]
    },
    {
      "cell_type": "code",
      "metadata": {
        "colab": {
          "base_uri": "https://localhost:8080/"
        },
        "id": "-sggke_dpLQR",
        "outputId": "4a7dca39-eca2-49c6-dad1-cdf298a3ec1d"
      },
      "source": [
        "200//33"
      ],
      "execution_count": null,
      "outputs": [
        {
          "output_type": "execute_result",
          "data": {
            "text/plain": [
              "6"
            ]
          },
          "metadata": {
            "tags": []
          },
          "execution_count": 4
        }
      ]
    },
    {
      "cell_type": "code",
      "metadata": {
        "colab": {
          "base_uri": "https://localhost:8080/"
        },
        "id": "8tYMPd-5pNIP",
        "outputId": "e7428750-22bb-4abb-fecd-aae380742909"
      },
      "source": [
        "5**2"
      ],
      "execution_count": null,
      "outputs": [
        {
          "output_type": "execute_result",
          "data": {
            "text/plain": [
              "25"
            ]
          },
          "metadata": {
            "tags": []
          },
          "execution_count": 5
        }
      ]
    },
    {
      "cell_type": "code",
      "metadata": {
        "colab": {
          "base_uri": "https://localhost:8080/"
        },
        "id": "5QkrD9iLpQFc",
        "outputId": "d3516f1f-a178-403c-d84e-2e9f377ca43d"
      },
      "source": [
        "50%2"
      ],
      "execution_count": null,
      "outputs": [
        {
          "output_type": "execute_result",
          "data": {
            "text/plain": [
              "0"
            ]
          },
          "metadata": {
            "tags": []
          },
          "execution_count": 6
        }
      ]
    },
    {
      "cell_type": "code",
      "metadata": {
        "id": "4WvphCghpRhE"
      },
      "source": [
        "#가독성을 위해 띄어쓰기 하는 습관을 가져야 한다!"
      ],
      "execution_count": null,
      "outputs": []
    },
    {
      "cell_type": "code",
      "metadata": {
        "colab": {
          "base_uri": "https://localhost:8080/"
        },
        "id": "dFpMW8vOpTjY",
        "outputId": "8019418c-146f-4417-b42a-c1ebd4df69e4"
      },
      "source": [
        "a = 100\n",
        "b = 200\n",
        "c = a + b\n",
        "print(c)"
      ],
      "execution_count": null,
      "outputs": [
        {
          "output_type": "stream",
          "text": [
            "300\n"
          ],
          "name": "stdout"
        }
      ]
    },
    {
      "cell_type": "code",
      "metadata": {
        "colab": {
          "base_uri": "https://localhost:8080/"
        },
        "id": "ewQyd-jipU_6",
        "outputId": "935933fa-e517-45bf-baf7-e106eed583f1"
      },
      "source": [
        "#미션\n",
        "\n",
        "a = 1000\n",
        "b = 2000\n",
        "c = a\n",
        "a = b\n",
        "b = c\n",
        "\n",
        "print(a)\n",
        "print(b)"
      ],
      "execution_count": null,
      "outputs": [
        {
          "output_type": "stream",
          "text": [
            "2000\n",
            "1000\n"
          ],
          "name": "stdout"
        }
      ]
    },
    {
      "cell_type": "code",
      "metadata": {
        "colab": {
          "base_uri": "https://localhost:8080/"
        },
        "id": "xNd2OWNbpWbj",
        "outputId": "d7a11800-8cb3-48f6-e008-d129ceeb4783"
      },
      "source": [
        "#미션 코드\n",
        "\n",
        "a = 1000\n",
        "b = 2000\n",
        "\n",
        "temp = a\n",
        "a = b\n",
        "b = temp\n",
        "\n",
        "print(a,b)"
      ],
      "execution_count": null,
      "outputs": [
        {
          "output_type": "stream",
          "text": [
            "2000 1000\n"
          ],
          "name": "stdout"
        }
      ]
    },
    {
      "cell_type": "code",
      "metadata": {
        "colab": {
          "base_uri": "https://localhost:8080/"
        },
        "id": "-f5gWaZFpYLH",
        "outputId": "9df70fe0-8ce8-443a-e6cf-59f80a3b8ba3"
      },
      "source": [
        "#미션 다른 사람 코드\n",
        "a = 1000\n",
        "b = 2000\n",
        "a,b = b,a\n",
        "print(a,b)"
      ],
      "execution_count": null,
      "outputs": [
        {
          "output_type": "stream",
          "text": [
            "2000 1000\n"
          ],
          "name": "stdout"
        }
      ]
    },
    {
      "cell_type": "code",
      "metadata": {
        "colab": {
          "base_uri": "https://localhost:8080/",
          "height": 52
        },
        "id": "t_bfWQq7pgUU",
        "outputId": "789ebb00-85b1-44b9-bae8-3c031293c2ae"
      },
      "source": [
        "#실습1\n",
        "'Python Web Crawler ' * 5"
      ],
      "execution_count": null,
      "outputs": [
        {
          "output_type": "execute_result",
          "data": {
            "application/vnd.google.colaboratory.intrinsic+json": {
              "type": "string"
            },
            "text/plain": [
              "'Python Web Crawler Python Web Crawler Python Web Crawler Python Web Crawler Python Web Crawler '"
            ]
          },
          "metadata": {
            "tags": []
          },
          "execution_count": 19
        }
      ]
    },
    {
      "cell_type": "code",
      "metadata": {
        "colab": {
          "base_uri": "https://localhost:8080/"
        },
        "id": "hhFOUu991hqV",
        "outputId": "0409e95a-910f-408f-b851-ea9d3132c567"
      },
      "source": [
        "#변수명 규칙\n",
        "\n",
        "#1. 문자, 숫자, 언더바(_) 가능\n",
        "#2. 숫자로 시작할 수 없음\n",
        "#3. 대소문자를 구분함\n",
        "#4. 키워드(=예약어)는 사용할 수 없음 ex) if, for, while 등\n",
        "\n",
        "import keyword\n",
        "print(len(keyword.kwlist))\n"
      ],
      "execution_count": null,
      "outputs": [
        {
          "output_type": "stream",
          "text": [
            "35\n"
          ],
          "name": "stdout"
        }
      ]
    },
    {
      "cell_type": "markdown",
      "metadata": {
        "id": "XbpZ4j2d3xOk"
      },
      "source": [
        "**자료형**"
      ]
    },
    {
      "cell_type": "code",
      "metadata": {
        "id": "w7kWQKFp23wt"
      },
      "source": [
        "#1. 정수형 int -- integer\n",
        "#2. 실수형 float -- float\n",
        "#3. 문자열형 str -- string\n",
        "#4. 부울형 bool -- boolean\n",
        "#5. 복소수형 complex --complex\n",
        "\n",
        "#6.리스트 list -- list\n",
        "#7.튜플 tuple -- tuple\n",
        "#8.집합 set -- set\n",
        "#9.딕셔너리 dict -- dictionary"
      ],
      "execution_count": null,
      "outputs": []
    },
    {
      "cell_type": "code",
      "metadata": {
        "colab": {
          "base_uri": "https://localhost:8080/"
        },
        "id": "IWQio-Xr4G7y",
        "outputId": "b6c2c4b1-bc28-4f2e-c67c-0e57b8fb667e"
      },
      "source": [
        "a = 100\n",
        "b = 10.5\n",
        "c = 'hello python'\n",
        "d = True\n",
        "e = 2 + 3j\n",
        "\n",
        "print(type(a))\n",
        "print(type(b))\n",
        "print(type(c))\n",
        "print(type(d))\n",
        "print(type(e))"
      ],
      "execution_count": null,
      "outputs": [
        {
          "output_type": "stream",
          "text": [
            "<class 'int'>\n",
            "<class 'float'>\n",
            "<class 'str'>\n",
            "<class 'bool'>\n",
            "<class 'complex'>\n"
          ],
          "name": "stdout"
        }
      ]
    },
    {
      "cell_type": "markdown",
      "metadata": {
        "id": "DgLUOcutR95v"
      },
      "source": [
        "**데이터 형**"
      ]
    },
    {
      "cell_type": "code",
      "metadata": {
        "id": "ctJJF88F4yqB",
        "colab": {
          "base_uri": "https://localhost:8080/"
        },
        "outputId": "f54e5a79-58d1-4177-cae5-b735c49aa42d"
      },
      "source": [
        "a = [1, 2, 3, 4, 5]\n",
        "b = (1, 2, 3, 4, 5)\n",
        "c = {1, 2, 3, 4, 5}\n",
        "d = {'가':1, '나':2, '다':3, '라':4, '마':5}\n",
        "\n",
        "print(type(a))\n",
        "print(type(b))\n",
        "print(type(c))\n",
        "print(type(d))\n",
        "\n",
        "print(len(d))"
      ],
      "execution_count": null,
      "outputs": [
        {
          "output_type": "stream",
          "text": [
            "<class 'list'>\n",
            "<class 'tuple'>\n",
            "<class 'set'>\n",
            "<class 'dict'>\n",
            "5\n"
          ],
          "name": "stdout"
        }
      ]
    },
    {
      "cell_type": "markdown",
      "metadata": {
        "id": "6EVT8YcTULaC"
      },
      "source": [
        "**데이터 형 변환**"
      ]
    },
    {
      "cell_type": "code",
      "metadata": {
        "colab": {
          "base_uri": "https://localhost:8080/"
        },
        "id": "cAer--hpRsUW",
        "outputId": "569496cd-4c4c-430b-ee55-e9ed11167e99"
      },
      "source": [
        "a = int(input('첫 번째 숫자입력: '))\n",
        "b = int(input('두 번째 숫자입력: '))\n",
        "\n",
        "c = a + b\n",
        "\n",
        "print('두 숫자의 합은', c, '입니다.')\n",
        "\n",
        "#문자열 포맷팅\n",
        "print('두 숫자의 합은 {}입니다.'.format(c))\n",
        "print('두 숫자의 합은 %d입니다.' % (c))\n",
        "print('첫 번째 숫자 {}와(과) 두번째 숫자 {}의 합은 {}입니다.'.format(a,b,c))\n",
        "print('첫 번째 숫자 {0:,}와(과) 두번째 숫자 {1:,}의 합은 {2:,}입니다.'.format(a,b,c))\n",
        "print('첫 번째 숫자 {0:,.5f}와(과) 두번째 숫자 {1:,.5f}의 합은 {2:,.5f}입니다.'.format(a,b,c))"
      ],
      "execution_count": null,
      "outputs": [
        {
          "output_type": "stream",
          "text": [
            "첫 번째 숫자입력: 200\n",
            "두 번째 숫자입력: 300\n",
            "두 숫자의 합은 500 입니다.\n",
            "두 숫자의 합은 500입니다.\n",
            "두 숫자의 합은 500입니다.\n",
            "첫 번째 숫자 200와(과) 두번째 숫자 300의 합은 500입니다.\n"
          ],
          "name": "stdout"
        }
      ]
    },
    {
      "cell_type": "code",
      "metadata": {
        "colab": {
          "base_uri": "https://localhost:8080/"
        },
        "id": "aQHXZUSdSS2s",
        "outputId": "5d082b9c-8b06-4d28-eab5-934a295c250b"
      },
      "source": [
        "#실습4 - bmi 지수\n",
        "\n",
        "w = float(input())\n",
        "h = float(input())\n",
        "\n",
        "bmi = w / (h * h)\n",
        "\n",
        "print('당신의 bmi 지수는 {:.1f}입니다.'.format(bmi))"
      ],
      "execution_count": null,
      "outputs": [
        {
          "output_type": "stream",
          "text": [
            "80\n",
            "1.8\n",
            "당신의 bmi 지수는 24.7입니다.\n"
          ],
          "name": "stdout"
        }
      ]
    },
    {
      "cell_type": "code",
      "metadata": {
        "colab": {
          "base_uri": "https://localhost:8080/"
        },
        "id": "mkWLJM8UfRqQ",
        "outputId": "97536d4b-9019-4257-877f-2a311478eb19"
      },
      "source": [
        "#실습5 \n",
        "\n",
        "c = float(input('섭씨를 입력하세요 : '))\n",
        "f = (c * 1.8) + 32\n",
        "\n",
        "print('화씨는 {:.0f}입니다'.format(f))\n",
        "\n"
      ],
      "execution_count": null,
      "outputs": [
        {
          "output_type": "stream",
          "text": [
            "섭씨를 입력하세요 : 100\n",
            "화씨는 212입니다\n"
          ],
          "name": "stdout"
        }
      ]
    },
    {
      "cell_type": "markdown",
      "metadata": {
        "id": "G17RcmM4lJx8"
      },
      "source": [
        "**인덱싱과 슬라이싱**"
      ]
    },
    {
      "cell_type": "code",
      "metadata": {
        "colab": {
          "base_uri": "https://localhost:8080/"
        },
        "id": "OQM6N10qi1An",
        "outputId": "cc692b65-c17b-43b0-e93f-a1dfd4872638"
      },
      "source": [
        "a = 'Life is too short, You need Python.'\n",
        "\n",
        "print(a[0])\n",
        "print(a[-1])\n",
        "print(len(a))\n",
        "print(a[34])\n",
        "\n",
        "print(a[0:7])\n",
        "print(a[-7:-1])\n",
        "\n",
        "print(a[19:])\n",
        "print(a[:17])"
      ],
      "execution_count": null,
      "outputs": [
        {
          "output_type": "stream",
          "text": [
            "L\n",
            ".\n",
            "35\n",
            ".\n",
            "Life is\n",
            "Python\n",
            "You need Python.\n",
            "Life is too short\n"
          ],
          "name": "stdout"
        }
      ]
    },
    {
      "cell_type": "markdown",
      "metadata": {
        "id": "Zqn1bPrcsV7A"
      },
      "source": [
        "**조건문**"
      ]
    },
    {
      "cell_type": "code",
      "metadata": {
        "colab": {
          "base_uri": "https://localhost:8080/"
        },
        "id": "kuw5FlePmU3m",
        "outputId": "a62629de-e90e-4ce2-df63-abedb2ed5cf9"
      },
      "source": [
        "#실습7 - 진리표\n",
        "\n",
        "(100> 200) and (300 >= 150)"
      ],
      "execution_count": null,
      "outputs": [
        {
          "output_type": "execute_result",
          "data": {
            "text/plain": [
              "False"
            ]
          },
          "metadata": {
            "tags": []
          },
          "execution_count": 32
        }
      ]
    },
    {
      "cell_type": "code",
      "metadata": {
        "colab": {
          "base_uri": "https://localhost:8080/"
        },
        "id": "lJxmUhAVu1gL",
        "outputId": "2d09b1b9-ccf8-4deb-fe60-73b97ae05b1e"
      },
      "source": [
        "#실습8\n",
        "\n",
        "pen_unit_price = 2000\n",
        "note_unit_price = 1000\n",
        "\n",
        "pen_count = int(input('펜의 개수를 입력: '))\n",
        "note_count = int(input('노트의 개수를 입력: '))\n",
        "\n",
        "total_price = pen_unit_price * pen_count + note_unit_price * note_count\n",
        "\n",
        "if total_price > 15000:\n",
        "  total_price = total_price - total_price * 0.1\n",
        "  print('총 구매금액(10% 할인)은 {:,.0f}원입니다.'.format(total_price))\n",
        "else:\n",
        "  print('총 구매금액은 {:,.0f}원입니다.'.format(total_price))"
      ],
      "execution_count": null,
      "outputs": [
        {
          "output_type": "stream",
          "text": [
            "펜의 개수를 입력: 10\n",
            "노트의 개수를 입력: 10\n",
            "총 구매금액(10% 할인)은 27,000원입니다.\n"
          ],
          "name": "stdout"
        }
      ]
    },
    {
      "cell_type": "code",
      "metadata": {
        "colab": {
          "base_uri": "https://localhost:8080/"
        },
        "id": "UJn6k0j2zG_4",
        "outputId": "1b787dab-d383-4c34-e733-a25ec237947e"
      },
      "source": [
        "#실습9\n",
        "s = 100000\n",
        "t = 50000\n",
        "\n",
        "s_count = int(input())\n",
        "t_count = int(input())\n",
        "\n",
        "total = s * s_count + t * t_count\n",
        "\n",
        "if total >= 300000:\n",
        "  total = total - total * 0.15\n",
        "  print('총 구매금액(15% 할인)은 {:,.0f}원입니다.'.format(total))\n",
        "else:\n",
        "  total = total - total * 0.05\n",
        "  print('총 구매금액(5% 할인)은 {:,.0f}원입니다.'.format(total))\n"
      ],
      "execution_count": null,
      "outputs": [
        {
          "output_type": "stream",
          "text": [
            "1\n",
            "1\n",
            "총 구매금액(5% 할인)은 142,500원입니다.\n"
          ],
          "name": "stdout"
        }
      ]
    },
    {
      "cell_type": "code",
      "metadata": {
        "colab": {
          "base_uri": "https://localhost:8080/"
        },
        "id": "IBj2ynMC03_l",
        "outputId": "db112649-5c02-4f71-ad80-e4c35a697412"
      },
      "source": [
        "#실습 10\n",
        "\n",
        "score = int(input('점수를 입력: '))\n",
        "\n",
        "if score >= 90:\n",
        "  print('A등급입니다.')\n",
        "elif score >= 80:\n",
        "  print('B등급입니다.')\n",
        "elif score >= 70:\n",
        "  print('C등급입니다.')\n",
        "elif score >= 60:\n",
        "  print('D등급입니다.')\n",
        "else:\n",
        "  print('F등급입니다.')"
      ],
      "execution_count": null,
      "outputs": [
        {
          "output_type": "stream",
          "text": [
            "점수를 입력: 67\n",
            "D등급입니다.\n"
          ],
          "name": "stdout"
        }
      ]
    },
    {
      "cell_type": "code",
      "metadata": {
        "colab": {
          "base_uri": "https://localhost:8080/"
        },
        "id": "UM8o51aQ5vNN",
        "outputId": "50e13d3d-1720-4e55-f669-04619c51c5e1"
      },
      "source": [
        "#실습 11\n",
        "\n",
        "f = int(input())\n",
        "s = int(input())\n",
        "t = int(input())\n",
        "\n",
        "total = f + s + t\n",
        "\n",
        "if total >= 180:\n",
        "  if f < 40 or s < 40 or t < 40:\n",
        "    print('불학격입니다. 과락입니다.')\n",
        "  else:\n",
        "    print('합격입니다.')\n",
        "else:\n",
        "  print('불합격입니다. 총점이 부족합니다.')"
      ],
      "execution_count": null,
      "outputs": [
        {
          "output_type": "stream",
          "text": [
            "1\n",
            "50\n",
            "50\n",
            "불합격입니다. 총점이 부족합니다.\n"
          ],
          "name": "stdout"
        }
      ]
    },
    {
      "cell_type": "markdown",
      "metadata": {
        "id": "XiKlQFNsjI1_"
      },
      "source": [
        "**파일**"
      ]
    },
    {
      "cell_type": "code",
      "metadata": {
        "id": "IoV6Eyd98I0_"
      },
      "source": [
        "f = open('python.txt','w')\n",
        "f.write('hello python')\n",
        "f.close()"
      ],
      "execution_count": null,
      "outputs": []
    },
    {
      "cell_type": "code",
      "metadata": {
        "id": "vhZeBqS2lv-q"
      },
      "source": [
        "f = open('python.txt','r')\n",
        "s = f.read()\n",
        "print(s)\n",
        "f.close()"
      ],
      "execution_count": null,
      "outputs": []
    },
    {
      "cell_type": "code",
      "metadata": {
        "id": "evASoTfAl5v6"
      },
      "source": [
        "lines = ['Python\\n', 'Swift\\n', 'Java\\n', 'Kotlin']\n",
        "\n",
        "with open('languge.txt','w') as file:\n",
        "  file.writelines(lines)"
      ],
      "execution_count": null,
      "outputs": []
    },
    {
      "cell_type": "code",
      "metadata": {
        "id": "JiksMAR0mBXD"
      },
      "source": [
        "with open('language.txt','r') as file:\n",
        "  lines = file.readlines()\n",
        "  print(lines)"
      ],
      "execution_count": null,
      "outputs": []
    },
    {
      "cell_type": "markdown",
      "metadata": {
        "id": "ArbksK7rnhDV"
      },
      "source": [
        "**예외처리**"
      ]
    },
    {
      "cell_type": "code",
      "metadata": {
        "colab": {
          "base_uri": "https://localhost:8080/"
        },
        "id": "59Gadefbm8Fr",
        "outputId": "a2cfbde6-68d4-4b17-e614-6bc87f1d698b"
      },
      "source": [
        "#시험에 잘나옴\n",
        "while True:\n",
        "  try:\n",
        "    x = int(input('나누고자 하는 숫자를 입력: '))\n",
        "    y = 100 / x\n",
        "    print(y)\n",
        "  except:\n",
        "    print('예외가 발생했습니다.')\n",
        "    break\n"
      ],
      "execution_count": 1,
      "outputs": [
        {
          "output_type": "stream",
          "text": [
            "나누고자 하는 숫자를 입력: 10\n",
            "10.0\n",
            "나누고자 하는 숫자를 입력: 0\n",
            "예외가 발생했습니다.\n"
          ],
          "name": "stdout"
        }
      ]
    },
    {
      "cell_type": "code",
      "metadata": {
        "colab": {
          "base_uri": "https://localhost:8080/"
        },
        "id": "7dYCDH8xnfo7",
        "outputId": "6897c58f-fc10-4c29-e53d-64825f38413e"
      },
      "source": [
        "while True:\n",
        "  try:\n",
        "    x = int(input('나누고자 하는 숫자를 입력: '))\n",
        "    y = 100 / x\n",
        "  except:\n",
        "    print('예외가 발생했습니다.')\n",
        "    break\n",
        "  else:\n",
        "    print(y)"
      ],
      "execution_count": 2,
      "outputs": [
        {
          "output_type": "stream",
          "text": [
            "나누고자 하는 숫자를 입력: 10\n",
            "10.0\n",
            "나누고자 하는 숫자를 입력: 0\n",
            "예외가 발생했습니다.\n"
          ],
          "name": "stdout"
        }
      ]
    },
    {
      "cell_type": "code",
      "metadata": {
        "colab": {
          "base_uri": "https://localhost:8080/"
        },
        "id": "AvSOU_K3oCTG",
        "outputId": "a2eaec63-b29d-4a17-ce9f-4b4149282d09"
      },
      "source": [
        "while True:\n",
        "  try:\n",
        "    x = int(input('나누고자 하는 숫자를 입력: '))\n",
        "    y = 100 / x\n",
        "  except:\n",
        "    print('예외가 발생했습니다.')\n",
        "    break\n",
        "  else:\n",
        "    print(y)\n",
        "  finally:\n",
        "    print('프로그램 실행이 종료되었습니다.\\n')"
      ],
      "execution_count": 3,
      "outputs": [
        {
          "output_type": "stream",
          "text": [
            "나누고자 하는 숫자를 입력: 1-\n",
            "예외가 발생했습니다.\n",
            "프로그램 실행이 종료되었습니다.\n",
            "\n"
          ],
          "name": "stdout"
        }
      ]
    },
    {
      "cell_type": "markdown",
      "metadata": {
        "id": "IBQfdEbKpCGX"
      },
      "source": [
        "**html 기본 문법**"
      ]
    },
    {
      "cell_type": "code",
      "metadata": {
        "id": "EwJfqUAaozVb"
      },
      "source": [
        ""
      ],
      "execution_count": null,
      "outputs": []
    }
  ]
}